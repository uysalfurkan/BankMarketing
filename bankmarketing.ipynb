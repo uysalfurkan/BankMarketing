{
 "cells": [
  {
   "cell_type": "markdown",
   "id": "930fbec0",
   "metadata": {
    "execution": {
     "iopub.execute_input": "2022-06-24T14:35:50.588665Z",
     "iopub.status.busy": "2022-06-24T14:35:50.58826Z",
     "iopub.status.idle": "2022-06-24T14:35:50.596989Z",
     "shell.execute_reply": "2022-06-24T14:35:50.595781Z",
     "shell.execute_reply.started": "2022-06-24T14:35:50.588631Z"
    },
    "papermill": {
     "duration": 0.016654,
     "end_time": "2022-06-26T11:00:22.989105",
     "exception": false,
     "start_time": "2022-06-26T11:00:22.972451",
     "status": "completed"
    },
    "tags": []
   },
   "source": [
    "# Classification  - Logistic Regression / XGBoost - Bank Marketing Dataset\n",
    "\n",
    "[Moro et al., 2014] S. Moro, P. Cortez and P. Rita. A Data-Driven Approach to Predict the Success of Bank Telemarketing. Decision Support Systems, Elsevier, 62:22-31, June 2014\n",
    "\n",
    "<font color = \"green\" >\n",
    "\n",
    "Content:   \n",
    "    \n",
    "1. [Loading Dataset and Necessary Libraries](#1)\n",
    "1. [Variable Analysis and Visualization](#2) \n",
    "    * [Variables](#3)\n",
    "    * [Visualization of Categorical Variables](#4)\n",
    "    * [Visualization of Numerical Variables](#5)\n",
    "1. [Data Analysis](#6)\n",
    "    * [Handling Missing Values](#7)\n",
    "    * [Handling Outliers](#8)\n",
    "1. [Modelling](#9)\n",
    "    * [Preparing Data](#10)\n",
    "    * [Hyperparameter Tunning](#11)"
   ]
  },
  {
   "cell_type": "markdown",
   "id": "db471e44",
   "metadata": {
    "papermill": {
     "duration": 0.014672,
     "end_time": "2022-06-26T11:00:23.018958",
     "exception": false,
     "start_time": "2022-06-26T11:00:23.004286",
     "status": "completed"
    },
    "tags": []
   },
   "source": [
    "<a id = \"1\"></a>\n",
    "## Loading Dataset and Necessary Libraries"
   ]
  },
  {
   "cell_type": "code",
   "execution_count": 1,
   "id": "a0c43d14",
   "metadata": {
    "_cell_guid": "b1076dfc-b9ad-4769-8c92-a6c4dae69d19",
    "_uuid": "8f2839f25d086af736a60e9eeb907d3b93b6e0e5",
    "execution": {
     "iopub.execute_input": "2022-06-26T11:00:23.050960Z",
     "iopub.status.busy": "2022-06-26T11:00:23.050313Z",
     "iopub.status.idle": "2022-06-26T11:00:24.740042Z",
     "shell.execute_reply": "2022-06-26T11:00:24.739062Z"
    },
    "papermill": {
     "duration": 1.708846,
     "end_time": "2022-06-26T11:00:24.742762",
     "exception": false,
     "start_time": "2022-06-26T11:00:23.033916",
     "status": "completed"
    },
    "tags": []
   },
   "outputs": [],
   "source": [
    "import pandas as pd\n",
    "import numpy as np\n",
    "\n",
    "import seaborn as sns\n",
    "from matplotlib import pyplot as plt\n",
    "\n",
    "from sklearn.model_selection import train_test_split\n",
    "from xgboost import XGBClassifier\n",
    "from sklearn.linear_model import LogisticRegression\n",
    "from sklearn.metrics import classification_report,confusion_matrix,accuracy_score, f1_score, precision_score, recall_score,make_scorer\n",
    "from sklearn.model_selection import GridSearchCV, train_test_split, PredefinedSplit\n",
    "from sklearn.ensemble import VotingClassifier\n",
    "\n",
    "import warnings\n",
    "warnings.filterwarnings(\"ignore\")\n",
    "\n",
    "with warnings.catch_warnings():\n",
    "    warnings.simplefilter(\"ignore\")"
   ]
  },
  {
   "cell_type": "code",
   "execution_count": 2,
   "id": "37daf78f",
   "metadata": {
    "execution": {
     "iopub.execute_input": "2022-06-26T11:00:24.775848Z",
     "iopub.status.busy": "2022-06-26T11:00:24.775388Z",
     "iopub.status.idle": "2022-06-26T11:00:25.040545Z",
     "shell.execute_reply": "2022-06-26T11:00:25.039711Z"
    },
    "papermill": {
     "duration": 0.284053,
     "end_time": "2022-06-26T11:00:25.042861",
     "exception": false,
     "start_time": "2022-06-26T11:00:24.758808",
     "status": "completed"
    },
    "tags": []
   },
   "outputs": [],
   "source": [
    "data = pd.read_csv(\"../input/progetto-data-intensive-applications/bank-additional-full.csv\",sep=';')\n",
    "data.drop(['duration'], axis=1, inplace=True)"
   ]
  },
  {
   "cell_type": "markdown",
   "id": "cb814685",
   "metadata": {
    "papermill": {
     "duration": 0.016111,
     "end_time": "2022-06-26T11:00:25.074620",
     "exception": false,
     "start_time": "2022-06-26T11:00:25.058509",
     "status": "completed"
    },
    "tags": []
   },
   "source": [
    "* Now, I will check the basics of data. \n",
    "\n",
    "* Info and first 5 raws."
   ]
  },
  {
   "cell_type": "code",
   "execution_count": 3,
   "id": "e4c95229",
   "metadata": {
    "execution": {
     "iopub.execute_input": "2022-06-26T11:00:25.106471Z",
     "iopub.status.busy": "2022-06-26T11:00:25.105796Z",
     "iopub.status.idle": "2022-06-26T11:00:25.134665Z",
     "shell.execute_reply": "2022-06-26T11:00:25.133663Z"
    },
    "papermill": {
     "duration": 0.048256,
     "end_time": "2022-06-26T11:00:25.137770",
     "exception": false,
     "start_time": "2022-06-26T11:00:25.089514",
     "status": "completed"
    },
    "tags": []
   },
   "outputs": [
    {
     "data": {
      "text/html": [
       "<div>\n",
       "<style scoped>\n",
       "    .dataframe tbody tr th:only-of-type {\n",
       "        vertical-align: middle;\n",
       "    }\n",
       "\n",
       "    .dataframe tbody tr th {\n",
       "        vertical-align: top;\n",
       "    }\n",
       "\n",
       "    .dataframe thead th {\n",
       "        text-align: right;\n",
       "    }\n",
       "</style>\n",
       "<table border=\"1\" class=\"dataframe\">\n",
       "  <thead>\n",
       "    <tr style=\"text-align: right;\">\n",
       "      <th></th>\n",
       "      <th>age</th>\n",
       "      <th>job</th>\n",
       "      <th>marital</th>\n",
       "      <th>education</th>\n",
       "      <th>default</th>\n",
       "      <th>housing</th>\n",
       "      <th>loan</th>\n",
       "      <th>contact</th>\n",
       "      <th>month</th>\n",
       "      <th>day_of_week</th>\n",
       "      <th>campaign</th>\n",
       "      <th>pdays</th>\n",
       "      <th>previous</th>\n",
       "      <th>poutcome</th>\n",
       "      <th>emp.var.rate</th>\n",
       "      <th>cons.price.idx</th>\n",
       "      <th>cons.conf.idx</th>\n",
       "      <th>euribor3m</th>\n",
       "      <th>nr.employed</th>\n",
       "      <th>y</th>\n",
       "    </tr>\n",
       "  </thead>\n",
       "  <tbody>\n",
       "    <tr>\n",
       "      <th>0</th>\n",
       "      <td>56</td>\n",
       "      <td>housemaid</td>\n",
       "      <td>married</td>\n",
       "      <td>basic.4y</td>\n",
       "      <td>no</td>\n",
       "      <td>no</td>\n",
       "      <td>no</td>\n",
       "      <td>telephone</td>\n",
       "      <td>may</td>\n",
       "      <td>mon</td>\n",
       "      <td>1</td>\n",
       "      <td>999</td>\n",
       "      <td>0</td>\n",
       "      <td>nonexistent</td>\n",
       "      <td>1.1</td>\n",
       "      <td>93.994</td>\n",
       "      <td>-36.4</td>\n",
       "      <td>4.857</td>\n",
       "      <td>5191.0</td>\n",
       "      <td>no</td>\n",
       "    </tr>\n",
       "    <tr>\n",
       "      <th>1</th>\n",
       "      <td>57</td>\n",
       "      <td>services</td>\n",
       "      <td>married</td>\n",
       "      <td>high.school</td>\n",
       "      <td>unknown</td>\n",
       "      <td>no</td>\n",
       "      <td>no</td>\n",
       "      <td>telephone</td>\n",
       "      <td>may</td>\n",
       "      <td>mon</td>\n",
       "      <td>1</td>\n",
       "      <td>999</td>\n",
       "      <td>0</td>\n",
       "      <td>nonexistent</td>\n",
       "      <td>1.1</td>\n",
       "      <td>93.994</td>\n",
       "      <td>-36.4</td>\n",
       "      <td>4.857</td>\n",
       "      <td>5191.0</td>\n",
       "      <td>no</td>\n",
       "    </tr>\n",
       "    <tr>\n",
       "      <th>2</th>\n",
       "      <td>37</td>\n",
       "      <td>services</td>\n",
       "      <td>married</td>\n",
       "      <td>high.school</td>\n",
       "      <td>no</td>\n",
       "      <td>yes</td>\n",
       "      <td>no</td>\n",
       "      <td>telephone</td>\n",
       "      <td>may</td>\n",
       "      <td>mon</td>\n",
       "      <td>1</td>\n",
       "      <td>999</td>\n",
       "      <td>0</td>\n",
       "      <td>nonexistent</td>\n",
       "      <td>1.1</td>\n",
       "      <td>93.994</td>\n",
       "      <td>-36.4</td>\n",
       "      <td>4.857</td>\n",
       "      <td>5191.0</td>\n",
       "      <td>no</td>\n",
       "    </tr>\n",
       "    <tr>\n",
       "      <th>3</th>\n",
       "      <td>40</td>\n",
       "      <td>admin.</td>\n",
       "      <td>married</td>\n",
       "      <td>basic.6y</td>\n",
       "      <td>no</td>\n",
       "      <td>no</td>\n",
       "      <td>no</td>\n",
       "      <td>telephone</td>\n",
       "      <td>may</td>\n",
       "      <td>mon</td>\n",
       "      <td>1</td>\n",
       "      <td>999</td>\n",
       "      <td>0</td>\n",
       "      <td>nonexistent</td>\n",
       "      <td>1.1</td>\n",
       "      <td>93.994</td>\n",
       "      <td>-36.4</td>\n",
       "      <td>4.857</td>\n",
       "      <td>5191.0</td>\n",
       "      <td>no</td>\n",
       "    </tr>\n",
       "    <tr>\n",
       "      <th>4</th>\n",
       "      <td>56</td>\n",
       "      <td>services</td>\n",
       "      <td>married</td>\n",
       "      <td>high.school</td>\n",
       "      <td>no</td>\n",
       "      <td>no</td>\n",
       "      <td>yes</td>\n",
       "      <td>telephone</td>\n",
       "      <td>may</td>\n",
       "      <td>mon</td>\n",
       "      <td>1</td>\n",
       "      <td>999</td>\n",
       "      <td>0</td>\n",
       "      <td>nonexistent</td>\n",
       "      <td>1.1</td>\n",
       "      <td>93.994</td>\n",
       "      <td>-36.4</td>\n",
       "      <td>4.857</td>\n",
       "      <td>5191.0</td>\n",
       "      <td>no</td>\n",
       "    </tr>\n",
       "  </tbody>\n",
       "</table>\n",
       "</div>"
      ],
      "text/plain": [
       "   age        job  marital    education  default housing loan    contact  \\\n",
       "0   56  housemaid  married     basic.4y       no      no   no  telephone   \n",
       "1   57   services  married  high.school  unknown      no   no  telephone   \n",
       "2   37   services  married  high.school       no     yes   no  telephone   \n",
       "3   40     admin.  married     basic.6y       no      no   no  telephone   \n",
       "4   56   services  married  high.school       no      no  yes  telephone   \n",
       "\n",
       "  month day_of_week  campaign  pdays  previous     poutcome  emp.var.rate  \\\n",
       "0   may         mon         1    999         0  nonexistent           1.1   \n",
       "1   may         mon         1    999         0  nonexistent           1.1   \n",
       "2   may         mon         1    999         0  nonexistent           1.1   \n",
       "3   may         mon         1    999         0  nonexistent           1.1   \n",
       "4   may         mon         1    999         0  nonexistent           1.1   \n",
       "\n",
       "   cons.price.idx  cons.conf.idx  euribor3m  nr.employed   y  \n",
       "0          93.994          -36.4      4.857       5191.0  no  \n",
       "1          93.994          -36.4      4.857       5191.0  no  \n",
       "2          93.994          -36.4      4.857       5191.0  no  \n",
       "3          93.994          -36.4      4.857       5191.0  no  \n",
       "4          93.994          -36.4      4.857       5191.0  no  "
      ]
     },
     "execution_count": 3,
     "metadata": {},
     "output_type": "execute_result"
    }
   ],
   "source": [
    "data.head()"
   ]
  },
  {
   "cell_type": "code",
   "execution_count": 4,
   "id": "dabbf84f",
   "metadata": {
    "execution": {
     "iopub.execute_input": "2022-06-26T11:00:25.170307Z",
     "iopub.status.busy": "2022-06-26T11:00:25.169922Z",
     "iopub.status.idle": "2022-06-26T11:00:25.240141Z",
     "shell.execute_reply": "2022-06-26T11:00:25.239218Z"
    },
    "papermill": {
     "duration": 0.089344,
     "end_time": "2022-06-26T11:00:25.242675",
     "exception": false,
     "start_time": "2022-06-26T11:00:25.153331",
     "status": "completed"
    },
    "tags": []
   },
   "outputs": [
    {
     "name": "stdout",
     "output_type": "stream",
     "text": [
      "<class 'pandas.core.frame.DataFrame'>\n",
      "RangeIndex: 41188 entries, 0 to 41187\n",
      "Data columns (total 20 columns):\n",
      " #   Column          Non-Null Count  Dtype  \n",
      "---  ------          --------------  -----  \n",
      " 0   age             41188 non-null  int64  \n",
      " 1   job             41188 non-null  object \n",
      " 2   marital         41188 non-null  object \n",
      " 3   education       41188 non-null  object \n",
      " 4   default         41188 non-null  object \n",
      " 5   housing         41188 non-null  object \n",
      " 6   loan            41188 non-null  object \n",
      " 7   contact         41188 non-null  object \n",
      " 8   month           41188 non-null  object \n",
      " 9   day_of_week     41188 non-null  object \n",
      " 10  campaign        41188 non-null  int64  \n",
      " 11  pdays           41188 non-null  int64  \n",
      " 12  previous        41188 non-null  int64  \n",
      " 13  poutcome        41188 non-null  object \n",
      " 14  emp.var.rate    41188 non-null  float64\n",
      " 15  cons.price.idx  41188 non-null  float64\n",
      " 16  cons.conf.idx   41188 non-null  float64\n",
      " 17  euribor3m       41188 non-null  float64\n",
      " 18  nr.employed     41188 non-null  float64\n",
      " 19  y               41188 non-null  object \n",
      "dtypes: float64(5), int64(4), object(11)\n",
      "memory usage: 6.3+ MB\n"
     ]
    }
   ],
   "source": [
    "data.info()"
   ]
  },
  {
   "cell_type": "markdown",
   "id": "a3c91473",
   "metadata": {
    "papermill": {
     "duration": 0.014827,
     "end_time": "2022-06-26T11:00:25.273682",
     "exception": false,
     "start_time": "2022-06-26T11:00:25.258855",
     "status": "completed"
    },
    "tags": []
   },
   "source": [
    "<a id = \"2\"></a>\n",
    "## Variable Analysis\n",
    "<a id = \"3\"></a>\n",
    "### Variables\n",
    "\n",
    "**1. age**\n",
    "\n",
    "**2. job :** Type of Job: \n",
    "\n",
    "(\"admin.\",\"blue-collar\",\"entrepreneur\",\"housemaid\",\"management\",\"retired\",\"self-employed\",\"services\",\"student\",\"technician\",\"unemployed\",\"unknown\")\n",
    "\n",
    "**3. marital :** Marital status:\n",
    "\n",
    "(\"divorced\",\"married\",\"single\",\"unknown\"; note: \"divorced\" means divorced or widowed)\n",
    "\n",
    "**4. education :** \n",
    "\n",
    "\"basic.4y\",\"basic.6y\",\"basic.9y\",\"high.school\",\"illiterate\",\"professional.course\",\"university.degree\",\"unknown\")\n",
    "\n",
    "**5. default :** has credit in default? \n",
    "\n",
    "(\"no\",\"yes\",\"unknown\")\n",
    "\n",
    "**6. housing :** has housing loan? \n",
    "\n",
    "(\"no\",\"yes\",\"unknown\")\n",
    "\n",
    "**7. loan :** has personal loan? \n",
    "\n",
    "(\"no\",\"yes\",\"unknown\")\n",
    "    \n",
    "**8. contact :** contact communication type \n",
    "\n",
    "(\"cellular\",\"telephone\") \n",
    "\n",
    "\n",
    "**9. month :** last contact month of year\n",
    "\n",
    "(\"jan\", \"feb\", \"mar\", ..., \"nov\", \"dec\")\n",
    "\n",
    "**10. day_of_week :** last contact day of the week \n",
    "\n",
    "(\"mon\",\"tue\",\"wed\",\"thu\",\"fri\")\n",
    "\n",
    "**11. duration :** last contact duration, in seconds (numeric). Important note:  this attribute highly affects the output target (e.g., if duration=0 then y=\"no\"). Yet, the duration is not known before a call is performed. Also, after the end of the call y is obviously known. Thus, this input should only be included for benchmark purposes and should be discarded if the intention is to have a realistic predictive model.\n",
    "\n",
    "**12. campaign :** number of contacts performed during this campaign and for this client (includes last contact)\n",
    "\n",
    "**13. pdays :** number of days that passed by after the client was last contacted from a previous campaign (999 means client was not previously contacted)\n",
    "\n",
    "**14. previous :** number of contacts performed before this campaign and for this client\n",
    "\n",
    "**15. poutcome :** outcome of the previous marketing campaign \n",
    "\n",
    "(\"failure\",\"nonexistent\",\"success\")\n",
    "\n",
    "**16. emp.var.rate :** employment variation rate - quarterly indicator \n",
    "\n",
    "**17. cons.price.idx :** consumer price index - monthly indicator     \n",
    "\n",
    "**18. cons.conf.idx :** consumer confidence index - monthly indicator \n",
    "\n",
    "**19. euribor3m :** euribor 3 month rate - daily indicator\n",
    "\n",
    "**20. nr.employed :** number of employees - quarterly indicator\n",
    "\n",
    "<font color = \"red\" >\n",
    "\n",
    "**Output Variable**\n",
    "    \n",
    "<font color = \"black\" >\n",
    "    \n",
    "**21. y :** has the client subscribed a term deposit? (binary: \"yes\",\"no\")\n",
    "\n",
    "\n",
    "    \n",
    "We have 11 categorical, 10 numerical variable.\n",
    "\n",
    "<font color = \"black\" >\n",
    "\n",
    "\n",
    "* **Numerical variables:** nr.employed, euribor3m, cons.conf.idx, cons.price.idx, emp.var.rate, previous, pdays, campaign, duration, age\n",
    "    \n",
    "* **Categorical variables:** poutcome, day_of_week, month, contact, loan, housing, default, education, martial, job"
   ]
  },
  {
   "cell_type": "markdown",
   "id": "56ebd25b",
   "metadata": {
    "papermill": {
     "duration": 0.01555,
     "end_time": "2022-06-26T11:00:25.304377",
     "exception": false,
     "start_time": "2022-06-26T11:00:25.288827",
     "status": "completed"
    },
    "tags": []
   },
   "source": [
    "<a id = \"4\"></a>\n",
    "### Visualization of Categorical Variables"
   ]
  },
  {
   "cell_type": "code",
   "execution_count": 5,
   "id": "c7e9d1ec",
   "metadata": {
    "execution": {
     "iopub.execute_input": "2022-06-26T11:00:25.337573Z",
     "iopub.status.busy": "2022-06-26T11:00:25.337173Z",
     "iopub.status.idle": "2022-06-26T11:00:25.346169Z",
     "shell.execute_reply": "2022-06-26T11:00:25.345099Z"
    },
    "papermill": {
     "duration": 0.028139,
     "end_time": "2022-06-26T11:00:25.348306",
     "exception": false,
     "start_time": "2022-06-26T11:00:25.320167",
     "status": "completed"
    },
    "tags": []
   },
   "outputs": [],
   "source": [
    "categorical_variables = [\"poutcome\", \"day_of_week\", \"month\", \"contact\", \"loan\", \n",
    "                         \"housing\", \"default\", \"education\", \"marital\", \"job\", \"y\"]\n",
    "\n",
    "def bar_categorical(feature):\n",
    "    plt.figure(figsize = (7, 4))\n",
    "    values = data[feature].value_counts()\n",
    "    ax = sns.countplot(x=\"{}\".format(feature), data=data, palette=\"Set3\")\n",
    "    plt.ylabel(\"Count\", fontweight = \"bold\")\n",
    "    plt.xlabel(\"{}\".format(feature), fontweight = \"bold\")\n",
    "    plt.title(\"{}'s Bar Plot\".format(feature), fontweight = \"bold\")\n",
    "    plt.show()\n",
    "    print(\"INFO:\")\n",
    "    print(\"{}\".format(values))"
   ]
  },
  {
   "cell_type": "code",
   "execution_count": 6,
   "id": "2b6b7823",
   "metadata": {
    "execution": {
     "iopub.execute_input": "2022-06-26T11:00:25.380592Z",
     "iopub.status.busy": "2022-06-26T11:00:25.380173Z",
     "iopub.status.idle": "2022-06-26T11:00:27.955527Z",
     "shell.execute_reply": "2022-06-26T11:00:27.954218Z"
    },
    "papermill": {
     "duration": 2.595244,
     "end_time": "2022-06-26T11:00:27.958793",
     "exception": false,
     "start_time": "2022-06-26T11:00:25.363549",
     "status": "completed"
    },
    "tags": []
   },
   "outputs": [
    {
     "data": {
      "image/png": "[encoded data removed]",
      "text/plain": [
       "<Figure size 504x288 with 1 Axes>"
      ]
     },
     "metadata": {
      "needs_background": "light"
     },
     "output_type": "display_data"
    },
    {
     "name": "stdout",
     "output_type": "stream",
     "text": [
      "INFO:\n",
      "nonexistent    35563\n",
      "failure         4252\n",
      "success         1373\n",
      "Name: poutcome, dtype: int64\n"
     ]
    },
    {
     "data": {
      "image/png": "[encoded data removed]",
      "text/plain": [
       "<Figure size 504x288 with 1 Axes>"
      ]
     },
     "metadata": {
      "needs_background": "light"
     },
     "output_type": "display_data"
    },
    {
     "name": "stdout",
     "output_type": "stream",
     "text": [
      "INFO:\n",
      "thu    8623\n",
      "mon    8514\n",
      "wed    8134\n",
      "tue    8090\n",
      "fri    7827\n",
      "Name: day_of_week, dtype: int64\n"
     ]
    },
    {
     "data": {
      "image/png": "[encoded data removed]",
      "text/plain": [
       "<Figure size 504x288 with 1 Axes>"
      ]
     },
     "metadata": {
      "needs_background": "light"
     },
     "output_type": "display_data"
    },
    {
     "name": "stdout",
     "output_type": "stream",
     "text": [
      "INFO:\n",
      "may    13769\n",
      "jul     7174\n",
      "aug     6178\n",
      "jun     5318\n",
      "nov     4101\n",
      "apr     2632\n",
      "oct      718\n",
      "sep      570\n",
      "mar      546\n",
      "dec      182\n",
      "Name: month, dtype: int64\n"
     ]
    },
    {
     "data": {
      "image/png": "[encoded data removed]",
      "text/plain": [
       "<Figure size 504x288 with 1 Axes>"
      ]
     },
     "metadata": {
      "needs_background": "light"
     },
     "output_type": "display_data"
    },
    {
     "name": "stdout",
     "output_type": "stream",
     "text": [
      "INFO:\n",
      "cellular     26144\n",
      "telephone    15044\n",
      "Name: contact, dtype: int64\n"
     ]
    },
    {
     "data": {
      "image/png": "[encoded data removed]",
      "text/plain": [
       "<Figure size 504x288 with 1 Axes>"
      ]
     },
     "metadata": {
      "needs_background": "light"
     },
     "output_type": "display_data"
    },
    {
     "name": "stdout",
     "output_type": "stream",
     "text": [
      "INFO:\n",
      "no         33950\n",
      "yes         6248\n",
      "unknown      990\n",
      "Name: loan, dtype: int64\n"
     ]
    },
    {
     "data": {
      "image/png": "[encoded data removed]",
      "text/plain": [
       "<Figure size 504x288 with 1 Axes>"
      ]
     },
     "metadata": {
      "needs_background": "light"
     },
     "output_type": "display_data"
    },
    {
     "name": "stdout",
     "output_type": "stream",
     "text": [
      "INFO:\n",
      "yes        21576\n",
      "no         18622\n",
      "unknown      990\n",
      "Name: housing, dtype: int64\n"
     ]
    },
    {
     "data": {
      "image/png": "[encoded data removed]",
      "text/plain": [
       "<Figure size 504x288 with 1 Axes>"
      ]
     },
     "metadata": {
      "needs_background": "light"
     },
     "output_type": "display_data"
    },
    {
     "name": "stdout",
     "output_type": "stream",
     "text": [
      "INFO:\n",
      "no         32588\n",
      "unknown     8597\n",
      "yes            3\n",
      "Name: default, dtype: int64\n"
     ]
    },
    {
     "data": {
      "image/png": "[encoded data removed]",
      "text/plain": [
       "<Figure size 504x288 with 1 Axes>"
      ]
     },
     "metadata": {
      "needs_background": "light"
     },
     "output_type": "display_data"
    },
    {
     "name": "stdout",
     "output_type": "stream",
     "text": [
      "INFO:\n",
      "university.degree      12168\n",
      "high.school             9515\n",
      "basic.9y                6045\n",
      "professional.course     5243\n",
      "basic.4y                4176\n",
      "basic.6y                2292\n",
      "unknown                 1731\n",
      "illiterate                18\n",
      "Name: education, dtype: int64\n"
     ]
    },
    {
     "data": {
      "image/png": "[encoded data removed]",
      "text/plain": [
       "<Figure size 504x288 with 1 Axes>"
      ]
     },
     "metadata": {
      "needs_background": "light"
     },
     "output_type": "display_data"
    },
    {
     "name": "stdout",
     "output_type": "stream",
     "text": [
      "INFO:\n",
      "married     24928\n",
      "single      11568\n",
      "divorced     4612\n",
      "unknown        80\n",
      "Name: marital, dtype: int64\n"
     ]
    },
    {
     "data": {
      "image/png": "[encoded data removed]",
      "text/plain": [
       "<Figure size 504x288 with 1 Axes>"
      ]
     },
     "metadata": {
      "needs_background": "light"
     },
     "output_type": "display_data"
    },
    {
     "name": "stdout",
     "output_type": "stream",
     "text": [
      "INFO:\n",
      "admin.           10422\n",
      "blue-collar       9254\n",
      "technician        6743\n",
      "services          3969\n",
      "management        2924\n",
      "retired           1720\n",
      "entrepreneur      1456\n",
      "self-employed     1421\n",
      "housemaid         1060\n",
      "unemployed        1014\n",
      "student            875\n",
      "unknown            330\n",
      "Name: job, dtype: int64\n"
     ]
    },
    {
     "data": {
      "image/png": "[encoded data removed]",
      "text/plain": [
       "<Figure size 504x288 with 1 Axes>"
      ]
     },
     "metadata": {
      "needs_background": "light"
     },
     "output_type": "display_data"
    },
    {
     "name": "stdout",
     "output_type": "stream",
     "text": [
      "INFO:\n",
      "no     36548\n",
      "yes     4640\n",
      "Name: y, dtype: int64\n"
     ]
    }
   ],
   "source": [
    "for i in categorical_variables:\n",
    "    bar_categorical(i)"
   ]
  },
  {
   "cell_type": "markdown",
   "id": "a5f51124",
   "metadata": {
    "papermill": {
     "duration": 0.019711,
     "end_time": "2022-06-26T11:00:27.998575",
     "exception": false,
     "start_time": "2022-06-26T11:00:27.978864",
     "status": "completed"
    },
    "tags": []
   },
   "source": [
    "<a id = \"5\"></a>\n",
    "### Visualization of Categorical Variables"
   ]
  },
  {
   "cell_type": "code",
   "execution_count": 7,
   "id": "aa52d0c1",
   "metadata": {
    "execution": {
     "iopub.execute_input": "2022-06-26T11:00:28.039421Z",
     "iopub.status.busy": "2022-06-26T11:00:28.038538Z",
     "iopub.status.idle": "2022-06-26T11:00:28.045903Z",
     "shell.execute_reply": "2022-06-26T11:00:28.045223Z"
    },
    "papermill": {
     "duration": 0.029707,
     "end_time": "2022-06-26T11:00:28.047868",
     "exception": false,
     "start_time": "2022-06-26T11:00:28.018161",
     "status": "completed"
    },
    "tags": []
   },
   "outputs": [],
   "source": [
    "numerical_variables = [\"nr.employed\", \"euribor3m\", \"cons.conf.idx\", \n",
    "                       \"cons.price.idx\", \"emp.var.rate\", \"previous\", \"pdays\", \"campaign\", \"age\"]\n",
    "\n",
    "def hist_numerical(feature):\n",
    "    plt.figure(figsize = (7, 4))\n",
    "    sns.histplot(data=data, x = \"{}\".format(feature), bins=50, binwidth=3)\n",
    "    plt.ylabel(\"Frequency\", fontweight = \"bold\")\n",
    "    plt.xlabel(\"{}\".format(feature), fontweight = \"bold\")\n",
    "    plt.title(\"{}'s Histogram Plot\".format(feature), fontweight = \"bold\")\n",
    "    plt.show()\n",
    "    print(\"DESCRIBE:\")\n",
    "    print(data[feature].describe())"
   ]
  },
  {
   "cell_type": "code",
   "execution_count": 8,
   "id": "5130195e",
   "metadata": {
    "execution": {
     "iopub.execute_input": "2022-06-26T11:00:28.091853Z",
     "iopub.status.busy": "2022-06-26T11:00:28.091028Z",
     "iopub.status.idle": "2022-06-26T11:00:30.943902Z",
     "shell.execute_reply": "2022-06-26T11:00:30.942756Z"
    },
    "papermill": {
     "duration": 2.87954,
     "end_time": "2022-06-26T11:00:30.946369",
     "exception": false,
     "start_time": "2022-06-26T11:00:28.066829",
     "status": "completed"
    },
    "tags": []
   },
   "outputs": [
    {
     "data": {
      "image/png": "[encoded data removed]",
      "text/plain": [
       "<Figure size 504x288 with 1 Axes>"
      ]
     },
     "metadata": {
      "needs_background": "light"
     },
     "output_type": "display_data"
    },
    {
     "name": "stdout",
     "output_type": "stream",
     "text": [
      "DESCRIBE:\n",
      "count    41188.000000\n",
      "mean      5167.035911\n",
      "std         72.251528\n",
      "min       4963.600000\n",
      "25%       5099.100000\n",
      "50%       5191.000000\n",
      "75%       5228.100000\n",
      "max       5228.100000\n",
      "Name: nr.employed, dtype: float64\n"
     ]
    },
    {
     "data": {
      "image/png": "[encoded data removed]",
      "text/plain": [
       "<Figure size 504x288 with 1 Axes>"
      ]
     },
     "metadata": {
      "needs_background": "light"
     },
     "output_type": "display_data"
    },
    {
     "name": "stdout",
     "output_type": "stream",
     "text": [
      "DESCRIBE:\n",
      "count    41188.000000\n",
      "mean         3.621291\n",
      "std          1.734447\n",
      "min          0.634000\n",
      "25%          1.344000\n",
      "50%          4.857000\n",
      "75%          4.961000\n",
      "max          5.045000\n",
      "Name: euribor3m, dtype: float64\n"
     ]
    },
    {
     "data": {
      "image/png": "[encoded data removed]",
      "text/plain": [
       "<Figure size 504x288 with 1 Axes>"
      ]
     },
     "metadata": {
      "needs_background": "light"
     },
     "output_type": "display_data"
    },
    {
     "name": "stdout",
     "output_type": "stream",
     "text": [
      "DESCRIBE:\n",
      "count    41188.000000\n",
      "mean       -40.502600\n",
      "std          4.628198\n",
      "min        -50.800000\n",
      "25%        -42.700000\n",
      "50%        -41.800000\n",
      "75%        -36.400000\n",
      "max        -26.900000\n",
      "Name: cons.conf.idx, dtype: float64\n"
     ]
    },
    {
     "data": {
      "image/png": "[encoded data removed]",
      "text/plain": [
       "<Figure size 504x288 with 1 Axes>"
      ]
     },
     "metadata": {
      "needs_background": "light"
     },
     "output_type": "display_data"
    },
    {
     "name": "stdout",
     "output_type": "stream",
     "text": [
      "DESCRIBE:\n",
      "count    41188.000000\n",
      "mean        93.575664\n",
      "std          0.578840\n",
      "min         92.201000\n",
      "25%         93.075000\n",
      "50%         93.749000\n",
      "75%         93.994000\n",
      "max         94.767000\n",
      "Name: cons.price.idx, dtype: float64\n"
     ]
    },
    {
     "data": {
      "image/png": "[encoded data removed]",
      "text/plain": [
       "<Figure size 504x288 with 1 Axes>"
      ]
     },
     "metadata": {
      "needs_background": "light"
     },
     "output_type": "display_data"
    },
    {
     "name": "stdout",
     "output_type": "stream",
     "text": [
      "DESCRIBE:\n",
      "count    41188.000000\n",
      "mean         0.081886\n",
      "std          1.570960\n",
      "min         -3.400000\n",
      "25%         -1.800000\n",
      "50%          1.100000\n",
      "75%          1.400000\n",
      "max          1.400000\n",
      "Name: emp.var.rate, dtype: float64\n"
     ]
    },
    {
     "data": {
      "image/png": "[encoded data removed]",
      "text/plain": [
       "<Figure size 504x288 with 1 Axes>"
      ]
     },
     "metadata": {
      "needs_background": "light"
     },
     "output_type": "display_data"
    },
    {
     "name": "stdout",
     "output_type": "stream",
     "text": [
      "DESCRIBE:\n",
      "count    41188.000000\n",
      "mean         0.172963\n",
      "std          0.494901\n",
      "min          0.000000\n",
      "25%          0.000000\n",
      "50%          0.000000\n",
      "75%          0.000000\n",
      "max          7.000000\n",
      "Name: previous, dtype: float64\n"
     ]
    },
    {
     "data": {
      "image/png": "[encoded data removed]",
      "text/plain": [
       "<Figure size 504x288 with 1 Axes>"
      ]
     },
     "metadata": {
      "needs_background": "light"
     },
     "output_type": "display_data"
    },
    {
     "name": "stdout",
     "output_type": "stream",
     "text": [
      "DESCRIBE:\n",
      "count    41188.000000\n",
      "mean       962.475454\n",
      "std        186.910907\n",
      "min          0.000000\n",
      "25%        999.000000\n",
      "50%        999.000000\n",
      "75%        999.000000\n",
      "max        999.000000\n",
      "Name: pdays, dtype: float64\n"
     ]
    },
    {
     "data": {
      "image/png": "[encoded data removed]",
      "text/plain": [
       "<Figure size 504x288 with 1 Axes>"
      ]
     },
     "metadata": {
      "needs_background": "light"
     },
     "output_type": "display_data"
    },
    {
     "name": "stdout",
     "output_type": "stream",
     "text": [
      "DESCRIBE:\n",
      "count    41188.000000\n",
      "mean         2.567593\n",
      "std          2.770014\n",
      "min          1.000000\n",
      "25%          1.000000\n",
      "50%          2.000000\n",
      "75%          3.000000\n",
      "max         56.000000\n",
      "Name: campaign, dtype: float64\n"
     ]
    },
    {
     "data": {
      "image/png": "[encoded data removed]",
      "text/plain": [
       "<Figure size 504x288 with 1 Axes>"
      ]
     },
     "metadata": {
      "needs_background": "light"
     },
     "output_type": "display_data"
    },
    {
     "name": "stdout",
     "output_type": "stream",
     "text": [
      "DESCRIBE:\n",
      "count    41188.00000\n",
      "mean        40.02406\n",
      "std         10.42125\n",
      "min         17.00000\n",
      "25%         32.00000\n",
      "50%         38.00000\n",
      "75%         47.00000\n",
      "max         98.00000\n",
      "Name: age, dtype: float64\n"
     ]
    }
   ],
   "source": [
    "for i in numerical_variables:\n",
    "    hist_numerical(i)"
   ]
  },
  {
   "cell_type": "markdown",
   "id": "7ee096fa",
   "metadata": {
    "papermill": {
     "duration": 0.021985,
     "end_time": "2022-06-26T11:00:30.991116",
     "exception": false,
     "start_time": "2022-06-26T11:00:30.969131",
     "status": "completed"
    },
    "tags": []
   },
   "source": [
    "<a id = \"6\"></a>\n",
    "## Data Analysis"
   ]
  },
  {
   "cell_type": "markdown",
   "id": "6f85308f",
   "metadata": {
    "papermill": {
     "duration": 0.021982,
     "end_time": "2022-06-26T11:00:31.035788",
     "exception": false,
     "start_time": "2022-06-26T11:00:31.013806",
     "status": "completed"
    },
    "tags": []
   },
   "source": [
    "<a id = \"7\"></a>\n",
    "\n",
    "### Handling Missing Values\n",
    "Distribution of the Unknowns on the Categorical Variables"
   ]
  },
  {
   "cell_type": "code",
   "execution_count": 9,
   "id": "f45611b7",
   "metadata": {
    "execution": {
     "iopub.execute_input": "2022-06-26T11:00:31.082913Z",
     "iopub.status.busy": "2022-06-26T11:00:31.082248Z",
     "iopub.status.idle": "2022-06-26T11:00:31.192920Z",
     "shell.execute_reply": "2022-06-26T11:00:31.191198Z"
    },
    "papermill": {
     "duration": 0.136794,
     "end_time": "2022-06-26T11:00:31.195361",
     "exception": false,
     "start_time": "2022-06-26T11:00:31.058567",
     "status": "completed"
    },
    "tags": []
   },
   "outputs": [
    {
     "name": "stdout",
     "output_type": "stream",
     "text": [
      "no         0.824269\n",
      "yes        0.151695\n",
      "unknown    0.024036\n",
      "Name: loan, dtype: float64\n",
      "\n",
      "\n",
      "yes        0.523842\n",
      "no         0.452122\n",
      "unknown    0.024036\n",
      "Name: housing, dtype: float64\n",
      "\n",
      "\n",
      "no         0.791201\n",
      "unknown    0.208726\n",
      "yes        0.000073\n",
      "Name: default, dtype: float64\n",
      "\n",
      "\n",
      "university.degree      0.295426\n",
      "high.school            0.231014\n",
      "basic.9y               0.146766\n",
      "professional.course    0.127294\n",
      "basic.4y               0.101389\n",
      "basic.6y               0.055647\n",
      "unknown                0.042027\n",
      "illiterate             0.000437\n",
      "Name: education, dtype: float64\n",
      "\n",
      "\n",
      "married     0.605225\n",
      "single      0.280859\n",
      "divorced    0.111974\n",
      "unknown     0.001942\n",
      "Name: marital, dtype: float64\n",
      "\n",
      "\n",
      "admin.           0.253035\n",
      "blue-collar      0.224677\n",
      "technician       0.163713\n",
      "services         0.096363\n",
      "management       0.070992\n",
      "retired          0.041760\n",
      "entrepreneur     0.035350\n",
      "self-employed    0.034500\n",
      "housemaid        0.025736\n",
      "unemployed       0.024619\n",
      "student          0.021244\n",
      "unknown          0.008012\n",
      "Name: job, dtype: float64\n",
      "\n",
      "\n"
     ]
    }
   ],
   "source": [
    "for i in categorical_variables:\n",
    "    if \"unknown\" in data[i].value_counts():\n",
    "        print(data[i].value_counts(normalize=True))\n",
    "        print(\"\\n\")"
   ]
  },
  {
   "cell_type": "markdown",
   "id": "60c5b638",
   "metadata": {
    "papermill": {
     "duration": 0.022444,
     "end_time": "2022-06-26T11:00:31.240511",
     "exception": false,
     "start_time": "2022-06-26T11:00:31.218067",
     "status": "completed"
    },
    "tags": []
   },
   "source": [
    "Missing values in the \"loan\" and \"default\" is minority, and in these columns, \"no\" is majority. \n",
    "\n",
    "Thus, I will replace the unknown values as \"no\".\n",
    "For the other variables,the few lines of [github.com/np788/bankmarketing](http://) notebook was used."
   ]
  },
  {
   "cell_type": "code",
   "execution_count": 10,
   "id": "8c48504c",
   "metadata": {
    "execution": {
     "iopub.execute_input": "2022-06-26T11:00:31.288115Z",
     "iopub.status.busy": "2022-06-26T11:00:31.287447Z",
     "iopub.status.idle": "2022-06-26T11:00:31.416541Z",
     "shell.execute_reply": "2022-06-26T11:00:31.415733Z"
    },
    "papermill": {
     "duration": 0.15592,
     "end_time": "2022-06-26T11:00:31.419245",
     "exception": false,
     "start_time": "2022-06-26T11:00:31.263325",
     "status": "completed"
    },
    "tags": []
   },
   "outputs": [],
   "source": [
    "data[\"loan\"].replace({\"unknown\": \"no\"}, inplace=True)\n",
    "data[\"default\"].replace({\"unknown\": \"no\"}, inplace=True)\n",
    "data.loc[(data['age']>60) & (data['job']=='unknown'), 'job'] = 'retired'\n",
    "data.loc[(data['education']=='unknown') & (data['job']=='management'), 'education'] = 'university.degree'\n",
    "data.loc[(data['education']=='unknown') & (data['job']=='services'), 'education'] = 'high.school'\n",
    "data.loc[(data['education']=='unknown') & (data['job']=='housemaid'), 'education'] = 'basic.4y'\n",
    "data.loc[(data['job'] == 'unknown') & (data['education']=='basic.4y'), 'job'] = 'blue-collar'\n",
    "data.loc[(data['job'] == 'unknown') & (data['education']=='basic.6y'), 'job'] = 'blue-collar'\n",
    "data.loc[(data['job'] == 'unknown') & (data['education']=='basic.9y'), 'job'] = 'blue-collar'\n",
    "data.loc[(data['job']=='unknown') & (data['education']=='professional.course'), 'job'] = 'technician'"
   ]
  },
  {
   "cell_type": "code",
   "execution_count": 11,
   "id": "1fa4f71f",
   "metadata": {
    "execution": {
     "iopub.execute_input": "2022-06-26T11:00:31.466455Z",
     "iopub.status.busy": "2022-06-26T11:00:31.465804Z",
     "iopub.status.idle": "2022-06-26T11:00:31.548559Z",
     "shell.execute_reply": "2022-06-26T11:00:31.547753Z"
    },
    "papermill": {
     "duration": 0.108848,
     "end_time": "2022-06-26T11:00:31.550739",
     "exception": false,
     "start_time": "2022-06-26T11:00:31.441891",
     "status": "completed"
    },
    "tags": []
   },
   "outputs": [],
   "source": [
    "data.drop(data.index[data['job'] == \"unknown\"], inplace=True)\n",
    "data.drop(data.index[data['loan'] == \"unknown\"], inplace=True)\n",
    "data.drop(data.index[data['marital'] == \"unknown\"], inplace=True)\n",
    "data.drop(data.index[data['education'] == \"unknown\"], inplace=True)\n",
    "data.drop(data.index[data['housing'] == \"unknown\"], inplace=True)"
   ]
  },
  {
   "cell_type": "markdown",
   "id": "485844b7",
   "metadata": {
    "papermill": {
     "duration": 0.022769,
     "end_time": "2022-06-26T11:00:31.596184",
     "exception": false,
     "start_time": "2022-06-26T11:00:31.573415",
     "status": "completed"
    },
    "tags": []
   },
   "source": [
    "The empty output of the function below indicates that we have gotten rid of all unknown values."
   ]
  },
  {
   "cell_type": "code",
   "execution_count": 12,
   "id": "bdc50f72",
   "metadata": {
    "execution": {
     "iopub.execute_input": "2022-06-26T11:00:31.643896Z",
     "iopub.status.busy": "2022-06-26T11:00:31.643248Z",
     "iopub.status.idle": "2022-06-26T11:00:31.708924Z",
     "shell.execute_reply": "2022-06-26T11:00:31.707839Z"
    },
    "papermill": {
     "duration": 0.092313,
     "end_time": "2022-06-26T11:00:31.711310",
     "exception": false,
     "start_time": "2022-06-26T11:00:31.618997",
     "status": "completed"
    },
    "tags": []
   },
   "outputs": [],
   "source": [
    "for i in categorical_variables:\n",
    "    if \"unknown\" in data[i].value_counts():\n",
    "        print(data[i].value_counts())\n",
    "        print(\"\\n\")"
   ]
  },
  {
   "cell_type": "code",
   "execution_count": 13,
   "id": "a420e8b5",
   "metadata": {
    "execution": {
     "iopub.execute_input": "2022-06-26T11:00:31.759536Z",
     "iopub.status.busy": "2022-06-26T11:00:31.759104Z",
     "iopub.status.idle": "2022-06-26T11:00:31.763816Z",
     "shell.execute_reply": "2022-06-26T11:00:31.762970Z"
    },
    "papermill": {
     "duration": 0.03144,
     "end_time": "2022-06-26T11:00:31.765805",
     "exception": false,
     "start_time": "2022-06-26T11:00:31.734365",
     "status": "completed"
    },
    "tags": []
   },
   "outputs": [],
   "source": [
    "numerical_variables = ['age','campaign', 'pdays', 'previous', 'emp.var.rate', 'cons.price.idx','cons.conf.idx','euribor3m',\n",
    "                      'nr.employed']"
   ]
  },
  {
   "cell_type": "code",
   "execution_count": 14,
   "id": "c369d7d4",
   "metadata": {
    "execution": {
     "iopub.execute_input": "2022-06-26T11:00:31.812552Z",
     "iopub.status.busy": "2022-06-26T11:00:31.811989Z",
     "iopub.status.idle": "2022-06-26T11:00:31.860121Z",
     "shell.execute_reply": "2022-06-26T11:00:31.859478Z"
    },
    "papermill": {
     "duration": 0.073837,
     "end_time": "2022-06-26T11:00:31.862046",
     "exception": false,
     "start_time": "2022-06-26T11:00:31.788209",
     "status": "completed"
    },
    "tags": []
   },
   "outputs": [
    {
     "data": {
      "text/html": [
       "<div>\n",
       "<style scoped>\n",
       "    .dataframe tbody tr th:only-of-type {\n",
       "        vertical-align: middle;\n",
       "    }\n",
       "\n",
       "    .dataframe tbody tr th {\n",
       "        vertical-align: top;\n",
       "    }\n",
       "\n",
       "    .dataframe thead th {\n",
       "        text-align: right;\n",
       "    }\n",
       "</style>\n",
       "<table border=\"1\" class=\"dataframe\">\n",
       "  <thead>\n",
       "    <tr style=\"text-align: right;\">\n",
       "      <th></th>\n",
       "      <th>age</th>\n",
       "      <th>campaign</th>\n",
       "      <th>pdays</th>\n",
       "      <th>previous</th>\n",
       "      <th>emp.var.rate</th>\n",
       "      <th>cons.price.idx</th>\n",
       "      <th>cons.conf.idx</th>\n",
       "      <th>euribor3m</th>\n",
       "      <th>nr.employed</th>\n",
       "    </tr>\n",
       "  </thead>\n",
       "  <tbody>\n",
       "    <tr>\n",
       "      <th>count</th>\n",
       "      <td>38671.00000</td>\n",
       "      <td>38671.000000</td>\n",
       "      <td>38671.000000</td>\n",
       "      <td>38671.000000</td>\n",
       "      <td>38671.000000</td>\n",
       "      <td>38671.000000</td>\n",
       "      <td>38671.000000</td>\n",
       "      <td>38671.000000</td>\n",
       "      <td>38671.000000</td>\n",
       "    </tr>\n",
       "    <tr>\n",
       "      <th>mean</th>\n",
       "      <td>39.90957</td>\n",
       "      <td>2.567169</td>\n",
       "      <td>963.409015</td>\n",
       "      <td>0.170076</td>\n",
       "      <td>0.084645</td>\n",
       "      <td>93.571630</td>\n",
       "      <td>-40.530447</td>\n",
       "      <td>3.625868</td>\n",
       "      <td>5167.481824</td>\n",
       "    </tr>\n",
       "    <tr>\n",
       "      <th>std</th>\n",
       "      <td>10.30096</td>\n",
       "      <td>2.768077</td>\n",
       "      <td>184.601148</td>\n",
       "      <td>0.488196</td>\n",
       "      <td>1.566137</td>\n",
       "      <td>0.576583</td>\n",
       "      <td>4.621694</td>\n",
       "      <td>1.729611</td>\n",
       "      <td>71.737645</td>\n",
       "    </tr>\n",
       "    <tr>\n",
       "      <th>min</th>\n",
       "      <td>17.00000</td>\n",
       "      <td>1.000000</td>\n",
       "      <td>0.000000</td>\n",
       "      <td>0.000000</td>\n",
       "      <td>-3.400000</td>\n",
       "      <td>92.201000</td>\n",
       "      <td>-50.800000</td>\n",
       "      <td>0.634000</td>\n",
       "      <td>4963.600000</td>\n",
       "    </tr>\n",
       "    <tr>\n",
       "      <th>25%</th>\n",
       "      <td>32.00000</td>\n",
       "      <td>1.000000</td>\n",
       "      <td>999.000000</td>\n",
       "      <td>0.000000</td>\n",
       "      <td>-1.800000</td>\n",
       "      <td>93.075000</td>\n",
       "      <td>-42.700000</td>\n",
       "      <td>1.344000</td>\n",
       "      <td>5099.100000</td>\n",
       "    </tr>\n",
       "    <tr>\n",
       "      <th>50%</th>\n",
       "      <td>38.00000</td>\n",
       "      <td>2.000000</td>\n",
       "      <td>999.000000</td>\n",
       "      <td>0.000000</td>\n",
       "      <td>1.100000</td>\n",
       "      <td>93.444000</td>\n",
       "      <td>-41.800000</td>\n",
       "      <td>4.857000</td>\n",
       "      <td>5191.000000</td>\n",
       "    </tr>\n",
       "    <tr>\n",
       "      <th>75%</th>\n",
       "      <td>47.00000</td>\n",
       "      <td>3.000000</td>\n",
       "      <td>999.000000</td>\n",
       "      <td>0.000000</td>\n",
       "      <td>1.400000</td>\n",
       "      <td>93.994000</td>\n",
       "      <td>-36.400000</td>\n",
       "      <td>4.961000</td>\n",
       "      <td>5228.100000</td>\n",
       "    </tr>\n",
       "    <tr>\n",
       "      <th>max</th>\n",
       "      <td>98.00000</td>\n",
       "      <td>43.000000</td>\n",
       "      <td>999.000000</td>\n",
       "      <td>7.000000</td>\n",
       "      <td>1.400000</td>\n",
       "      <td>94.767000</td>\n",
       "      <td>-26.900000</td>\n",
       "      <td>5.045000</td>\n",
       "      <td>5228.100000</td>\n",
       "    </tr>\n",
       "  </tbody>\n",
       "</table>\n",
       "</div>"
      ],
      "text/plain": [
       "               age      campaign         pdays      previous  emp.var.rate  \\\n",
       "count  38671.00000  38671.000000  38671.000000  38671.000000  38671.000000   \n",
       "mean      39.90957      2.567169    963.409015      0.170076      0.084645   \n",
       "std       10.30096      2.768077    184.601148      0.488196      1.566137   \n",
       "min       17.00000      1.000000      0.000000      0.000000     -3.400000   \n",
       "25%       32.00000      1.000000    999.000000      0.000000     -1.800000   \n",
       "50%       38.00000      2.000000    999.000000      0.000000      1.100000   \n",
       "75%       47.00000      3.000000    999.000000      0.000000      1.400000   \n",
       "max       98.00000     43.000000    999.000000      7.000000      1.400000   \n",
       "\n",
       "       cons.price.idx  cons.conf.idx     euribor3m   nr.employed  \n",
       "count    38671.000000   38671.000000  38671.000000  38671.000000  \n",
       "mean        93.571630     -40.530447      3.625868   5167.481824  \n",
       "std          0.576583       4.621694      1.729611     71.737645  \n",
       "min         92.201000     -50.800000      0.634000   4963.600000  \n",
       "25%         93.075000     -42.700000      1.344000   5099.100000  \n",
       "50%         93.444000     -41.800000      4.857000   5191.000000  \n",
       "75%         93.994000     -36.400000      4.961000   5228.100000  \n",
       "max         94.767000     -26.900000      5.045000   5228.100000  "
      ]
     },
     "execution_count": 14,
     "metadata": {},
     "output_type": "execute_result"
    }
   ],
   "source": [
    "data[numerical_variables].describe()"
   ]
  },
  {
   "cell_type": "markdown",
   "id": "8005740d",
   "metadata": {
    "papermill": {
     "duration": 0.022834,
     "end_time": "2022-06-26T11:00:31.908048",
     "exception": false,
     "start_time": "2022-06-26T11:00:31.885214",
     "status": "completed"
    },
    "tags": []
   },
   "source": [
    "Correlation Between Categorical Variables and Target Value"
   ]
  },
  {
   "cell_type": "code",
   "execution_count": 15,
   "id": "9340a9ae",
   "metadata": {
    "execution": {
     "iopub.execute_input": "2022-06-26T11:00:31.956518Z",
     "iopub.status.busy": "2022-06-26T11:00:31.955989Z",
     "iopub.status.idle": "2022-06-26T11:00:31.985566Z",
     "shell.execute_reply": "2022-06-26T11:00:31.984748Z"
    },
    "papermill": {
     "duration": 0.056384,
     "end_time": "2022-06-26T11:00:31.987816",
     "exception": false,
     "start_time": "2022-06-26T11:00:31.931432",
     "status": "completed"
    },
    "tags": []
   },
   "outputs": [],
   "source": [
    "data[\"y\"] = [1 if i == 'yes' else 0 for i in data[\"y\"]]"
   ]
  },
  {
   "cell_type": "code",
   "execution_count": 16,
   "id": "e7f937f4",
   "metadata": {
    "execution": {
     "iopub.execute_input": "2022-06-26T11:00:32.036905Z",
     "iopub.status.busy": "2022-06-26T11:00:32.036501Z",
     "iopub.status.idle": "2022-06-26T11:00:32.804685Z",
     "shell.execute_reply": "2022-06-26T11:00:32.803513Z"
    },
    "papermill": {
     "duration": 0.797034,
     "end_time": "2022-06-26T11:00:32.807845",
     "exception": false,
     "start_time": "2022-06-26T11:00:32.010811",
     "status": "completed"
    },
    "tags": []
   },
   "outputs": [
    {
     "data": {
      "image/png": "[encoded data removed]",
      "text/plain": [
       "<Figure size 720x720 with 2 Axes>"
      ]
     },
     "metadata": {
      "needs_background": "light"
     },
     "output_type": "display_data"
    }
   ],
   "source": [
    "f, ax = plt.subplots(figsize= (10,10))\n",
    "sns.heatmap(data.corr(), annot=True, linewidths=.5, fmt=\".3f\", ax = ax)\n",
    "plt.show()"
   ]
  },
  {
   "cell_type": "markdown",
   "id": "f8574b16",
   "metadata": {
    "papermill": {
     "duration": 0.024019,
     "end_time": "2022-06-26T11:00:32.856842",
     "exception": false,
     "start_time": "2022-06-26T11:00:32.832823",
     "status": "completed"
    },
    "tags": []
   },
   "source": [
    "Checking the Missing Values in the Numerical Variables"
   ]
  },
  {
   "cell_type": "code",
   "execution_count": 17,
   "id": "e198724a",
   "metadata": {
    "execution": {
     "iopub.execute_input": "2022-06-26T11:00:32.907595Z",
     "iopub.status.busy": "2022-06-26T11:00:32.907204Z",
     "iopub.status.idle": "2022-06-26T11:00:32.977934Z",
     "shell.execute_reply": "2022-06-26T11:00:32.976740Z"
    },
    "papermill": {
     "duration": 0.098691,
     "end_time": "2022-06-26T11:00:32.980201",
     "exception": false,
     "start_time": "2022-06-26T11:00:32.881510",
     "status": "completed"
    },
    "tags": []
   },
   "outputs": [
    {
     "name": "stdout",
     "output_type": "stream",
     "text": [
      "pdays\n"
     ]
    }
   ],
   "source": [
    "for i in data[numerical_variables]:\n",
    "    for j in data[i]:\n",
    "        if j == 999:\n",
    "            print(i)\n",
    "            break"
   ]
  },
  {
   "cell_type": "code",
   "execution_count": 18,
   "id": "f60145da",
   "metadata": {
    "execution": {
     "iopub.execute_input": "2022-06-26T11:00:33.039424Z",
     "iopub.status.busy": "2022-06-26T11:00:33.038823Z",
     "iopub.status.idle": "2022-06-26T11:00:33.234621Z",
     "shell.execute_reply": "2022-06-26T11:00:33.233763Z"
    },
    "papermill": {
     "duration": 0.231448,
     "end_time": "2022-06-26T11:00:33.236770",
     "exception": false,
     "start_time": "2022-06-26T11:00:33.005322",
     "status": "completed"
    },
    "tags": []
   },
   "outputs": [
    {
     "data": {
      "image/png": "[encoded data removed]",
      "text/plain": [
       "<Figure size 432x288 with 1 Axes>"
      ]
     },
     "metadata": {
      "needs_background": "light"
     },
     "output_type": "display_data"
    }
   ],
   "source": [
    "plt.hist(data[\"pdays\"])\n",
    "plt.show()"
   ]
  },
  {
   "cell_type": "markdown",
   "id": "848b6751",
   "metadata": {
    "papermill": {
     "duration": 0.024196,
     "end_time": "2022-06-26T11:00:33.285522",
     "exception": false,
     "start_time": "2022-06-26T11:00:33.261326",
     "status": "completed"
    },
    "tags": []
   },
   "source": [
    "Only \"pdays\" has missing values. According to information which is provided by the data creator the missing values in the categorical variables were replaced as \"999\".\n",
    "\n",
    "It is seen that the number of missing values is majority."
   ]
  },
  {
   "cell_type": "code",
   "execution_count": 19,
   "id": "074fee72",
   "metadata": {
    "execution": {
     "iopub.execute_input": "2022-06-26T11:00:33.336713Z",
     "iopub.status.busy": "2022-06-26T11:00:33.335996Z",
     "iopub.status.idle": "2022-06-26T11:00:33.517512Z",
     "shell.execute_reply": "2022-06-26T11:00:33.516784Z"
    },
    "papermill": {
     "duration": 0.209526,
     "end_time": "2022-06-26T11:00:33.519499",
     "exception": false,
     "start_time": "2022-06-26T11:00:33.309973",
     "status": "completed"
    },
    "tags": []
   },
   "outputs": [
    {
     "data": {
      "image/png": "[encoded data removed]",
      "text/plain": [
       "<Figure size 432x288 with 1 Axes>"
      ]
     },
     "metadata": {
      "needs_background": "light"
     },
     "output_type": "display_data"
    }
   ],
   "source": [
    "plt.hist(data.loc[data[\"pdays\"] != 999, \"pdays\"])\n",
    "plt.show()"
   ]
  },
  {
   "cell_type": "code",
   "execution_count": 20,
   "id": "596c40b9",
   "metadata": {
    "execution": {
     "iopub.execute_input": "2022-06-26T11:00:33.572669Z",
     "iopub.status.busy": "2022-06-26T11:00:33.571945Z",
     "iopub.status.idle": "2022-06-26T11:00:33.599109Z",
     "shell.execute_reply": "2022-06-26T11:00:33.597989Z"
    },
    "papermill": {
     "duration": 0.05641,
     "end_time": "2022-06-26T11:00:33.601532",
     "exception": false,
     "start_time": "2022-06-26T11:00:33.545122",
     "status": "completed"
    },
    "tags": []
   },
   "outputs": [],
   "source": [
    "data['pdays_missing'] = 0\n",
    "data['pdays_less_5'] = 0\n",
    "data['pdays_greater_15'] = 0\n",
    "data['pdays_bet_5_15'] = 0\n",
    "data['pdays_missing'][data['pdays'] == 999] = 1\n",
    "data['pdays_less_5'][data['pdays'] < 5] = 1\n",
    "data['pdays_greater_15'][(data['pdays'] > 15) & (data['pdays']<999)] = 1\n",
    "data['pdays_bet_5_15'][(data['pdays'] >= 5) & (data['pdays'] <= 15)] = 1\n",
    "data.drop('pdays', axis=1, inplace = True)"
   ]
  },
  {
   "cell_type": "code",
   "execution_count": 21,
   "id": "5a5ad5dc",
   "metadata": {
    "execution": {
     "iopub.execute_input": "2022-06-26T11:00:33.654047Z",
     "iopub.status.busy": "2022-06-26T11:00:33.653615Z",
     "iopub.status.idle": "2022-06-26T11:00:33.705880Z",
     "shell.execute_reply": "2022-06-26T11:00:33.705155Z"
    },
    "papermill": {
     "duration": 0.081082,
     "end_time": "2022-06-26T11:00:33.707697",
     "exception": false,
     "start_time": "2022-06-26T11:00:33.626615",
     "status": "completed"
    },
    "tags": []
   },
   "outputs": [
    {
     "data": {
      "text/html": [
       "<div>\n",
       "<style scoped>\n",
       "    .dataframe tbody tr th:only-of-type {\n",
       "        vertical-align: middle;\n",
       "    }\n",
       "\n",
       "    .dataframe tbody tr th {\n",
       "        vertical-align: top;\n",
       "    }\n",
       "\n",
       "    .dataframe thead th {\n",
       "        text-align: right;\n",
       "    }\n",
       "</style>\n",
       "<table border=\"1\" class=\"dataframe\">\n",
       "  <thead>\n",
       "    <tr style=\"text-align: right;\">\n",
       "      <th></th>\n",
       "      <th>age</th>\n",
       "      <th>job</th>\n",
       "      <th>marital</th>\n",
       "      <th>education</th>\n",
       "      <th>default</th>\n",
       "      <th>housing</th>\n",
       "      <th>loan</th>\n",
       "      <th>contact</th>\n",
       "      <th>month</th>\n",
       "      <th>day_of_week</th>\n",
       "      <th>...</th>\n",
       "      <th>emp.var.rate</th>\n",
       "      <th>cons.price.idx</th>\n",
       "      <th>cons.conf.idx</th>\n",
       "      <th>euribor3m</th>\n",
       "      <th>nr.employed</th>\n",
       "      <th>y</th>\n",
       "      <th>pdays_missing</th>\n",
       "      <th>pdays_less_5</th>\n",
       "      <th>pdays_greater_15</th>\n",
       "      <th>pdays_bet_5_15</th>\n",
       "    </tr>\n",
       "  </thead>\n",
       "  <tbody>\n",
       "    <tr>\n",
       "      <th>0</th>\n",
       "      <td>56</td>\n",
       "      <td>housemaid</td>\n",
       "      <td>married</td>\n",
       "      <td>basic.4y</td>\n",
       "      <td>no</td>\n",
       "      <td>no</td>\n",
       "      <td>no</td>\n",
       "      <td>telephone</td>\n",
       "      <td>may</td>\n",
       "      <td>mon</td>\n",
       "      <td>...</td>\n",
       "      <td>1.1</td>\n",
       "      <td>93.994</td>\n",
       "      <td>-36.4</td>\n",
       "      <td>4.857</td>\n",
       "      <td>5191.0</td>\n",
       "      <td>0</td>\n",
       "      <td>1</td>\n",
       "      <td>0</td>\n",
       "      <td>0</td>\n",
       "      <td>0</td>\n",
       "    </tr>\n",
       "    <tr>\n",
       "      <th>1</th>\n",
       "      <td>57</td>\n",
       "      <td>services</td>\n",
       "      <td>married</td>\n",
       "      <td>high.school</td>\n",
       "      <td>no</td>\n",
       "      <td>no</td>\n",
       "      <td>no</td>\n",
       "      <td>telephone</td>\n",
       "      <td>may</td>\n",
       "      <td>mon</td>\n",
       "      <td>...</td>\n",
       "      <td>1.1</td>\n",
       "      <td>93.994</td>\n",
       "      <td>-36.4</td>\n",
       "      <td>4.857</td>\n",
       "      <td>5191.0</td>\n",
       "      <td>0</td>\n",
       "      <td>1</td>\n",
       "      <td>0</td>\n",
       "      <td>0</td>\n",
       "      <td>0</td>\n",
       "    </tr>\n",
       "    <tr>\n",
       "      <th>2</th>\n",
       "      <td>37</td>\n",
       "      <td>services</td>\n",
       "      <td>married</td>\n",
       "      <td>high.school</td>\n",
       "      <td>no</td>\n",
       "      <td>yes</td>\n",
       "      <td>no</td>\n",
       "      <td>telephone</td>\n",
       "      <td>may</td>\n",
       "      <td>mon</td>\n",
       "      <td>...</td>\n",
       "      <td>1.1</td>\n",
       "      <td>93.994</td>\n",
       "      <td>-36.4</td>\n",
       "      <td>4.857</td>\n",
       "      <td>5191.0</td>\n",
       "      <td>0</td>\n",
       "      <td>1</td>\n",
       "      <td>0</td>\n",
       "      <td>0</td>\n",
       "      <td>0</td>\n",
       "    </tr>\n",
       "    <tr>\n",
       "      <th>3</th>\n",
       "      <td>40</td>\n",
       "      <td>admin.</td>\n",
       "      <td>married</td>\n",
       "      <td>basic.6y</td>\n",
       "      <td>no</td>\n",
       "      <td>no</td>\n",
       "      <td>no</td>\n",
       "      <td>telephone</td>\n",
       "      <td>may</td>\n",
       "      <td>mon</td>\n",
       "      <td>...</td>\n",
       "      <td>1.1</td>\n",
       "      <td>93.994</td>\n",
       "      <td>-36.4</td>\n",
       "      <td>4.857</td>\n",
       "      <td>5191.0</td>\n",
       "      <td>0</td>\n",
       "      <td>1</td>\n",
       "      <td>0</td>\n",
       "      <td>0</td>\n",
       "      <td>0</td>\n",
       "    </tr>\n",
       "    <tr>\n",
       "      <th>4</th>\n",
       "      <td>56</td>\n",
       "      <td>services</td>\n",
       "      <td>married</td>\n",
       "      <td>high.school</td>\n",
       "      <td>no</td>\n",
       "      <td>no</td>\n",
       "      <td>yes</td>\n",
       "      <td>telephone</td>\n",
       "      <td>may</td>\n",
       "      <td>mon</td>\n",
       "      <td>...</td>\n",
       "      <td>1.1</td>\n",
       "      <td>93.994</td>\n",
       "      <td>-36.4</td>\n",
       "      <td>4.857</td>\n",
       "      <td>5191.0</td>\n",
       "      <td>0</td>\n",
       "      <td>1</td>\n",
       "      <td>0</td>\n",
       "      <td>0</td>\n",
       "      <td>0</td>\n",
       "    </tr>\n",
       "    <tr>\n",
       "      <th>...</th>\n",
       "      <td>...</td>\n",
       "      <td>...</td>\n",
       "      <td>...</td>\n",
       "      <td>...</td>\n",
       "      <td>...</td>\n",
       "      <td>...</td>\n",
       "      <td>...</td>\n",
       "      <td>...</td>\n",
       "      <td>...</td>\n",
       "      <td>...</td>\n",
       "      <td>...</td>\n",
       "      <td>...</td>\n",
       "      <td>...</td>\n",
       "      <td>...</td>\n",
       "      <td>...</td>\n",
       "      <td>...</td>\n",
       "      <td>...</td>\n",
       "      <td>...</td>\n",
       "      <td>...</td>\n",
       "      <td>...</td>\n",
       "      <td>...</td>\n",
       "    </tr>\n",
       "    <tr>\n",
       "      <th>41183</th>\n",
       "      <td>73</td>\n",
       "      <td>retired</td>\n",
       "      <td>married</td>\n",
       "      <td>professional.course</td>\n",
       "      <td>no</td>\n",
       "      <td>yes</td>\n",
       "      <td>no</td>\n",
       "      <td>cellular</td>\n",
       "      <td>nov</td>\n",
       "      <td>fri</td>\n",
       "      <td>...</td>\n",
       "      <td>-1.1</td>\n",
       "      <td>94.767</td>\n",
       "      <td>-50.8</td>\n",
       "      <td>1.028</td>\n",
       "      <td>4963.6</td>\n",
       "      <td>1</td>\n",
       "      <td>1</td>\n",
       "      <td>0</td>\n",
       "      <td>0</td>\n",
       "      <td>0</td>\n",
       "    </tr>\n",
       "    <tr>\n",
       "      <th>41184</th>\n",
       "      <td>46</td>\n",
       "      <td>blue-collar</td>\n",
       "      <td>married</td>\n",
       "      <td>professional.course</td>\n",
       "      <td>no</td>\n",
       "      <td>no</td>\n",
       "      <td>no</td>\n",
       "      <td>cellular</td>\n",
       "      <td>nov</td>\n",
       "      <td>fri</td>\n",
       "      <td>...</td>\n",
       "      <td>-1.1</td>\n",
       "      <td>94.767</td>\n",
       "      <td>-50.8</td>\n",
       "      <td>1.028</td>\n",
       "      <td>4963.6</td>\n",
       "      <td>0</td>\n",
       "      <td>1</td>\n",
       "      <td>0</td>\n",
       "      <td>0</td>\n",
       "      <td>0</td>\n",
       "    </tr>\n",
       "    <tr>\n",
       "      <th>41185</th>\n",
       "      <td>56</td>\n",
       "      <td>retired</td>\n",
       "      <td>married</td>\n",
       "      <td>university.degree</td>\n",
       "      <td>no</td>\n",
       "      <td>yes</td>\n",
       "      <td>no</td>\n",
       "      <td>cellular</td>\n",
       "      <td>nov</td>\n",
       "      <td>fri</td>\n",
       "      <td>...</td>\n",
       "      <td>-1.1</td>\n",
       "      <td>94.767</td>\n",
       "      <td>-50.8</td>\n",
       "      <td>1.028</td>\n",
       "      <td>4963.6</td>\n",
       "      <td>0</td>\n",
       "      <td>1</td>\n",
       "      <td>0</td>\n",
       "      <td>0</td>\n",
       "      <td>0</td>\n",
       "    </tr>\n",
       "    <tr>\n",
       "      <th>41186</th>\n",
       "      <td>44</td>\n",
       "      <td>technician</td>\n",
       "      <td>married</td>\n",
       "      <td>professional.course</td>\n",
       "      <td>no</td>\n",
       "      <td>no</td>\n",
       "      <td>no</td>\n",
       "      <td>cellular</td>\n",
       "      <td>nov</td>\n",
       "      <td>fri</td>\n",
       "      <td>...</td>\n",
       "      <td>-1.1</td>\n",
       "      <td>94.767</td>\n",
       "      <td>-50.8</td>\n",
       "      <td>1.028</td>\n",
       "      <td>4963.6</td>\n",
       "      <td>1</td>\n",
       "      <td>1</td>\n",
       "      <td>0</td>\n",
       "      <td>0</td>\n",
       "      <td>0</td>\n",
       "    </tr>\n",
       "    <tr>\n",
       "      <th>41187</th>\n",
       "      <td>74</td>\n",
       "      <td>retired</td>\n",
       "      <td>married</td>\n",
       "      <td>professional.course</td>\n",
       "      <td>no</td>\n",
       "      <td>yes</td>\n",
       "      <td>no</td>\n",
       "      <td>cellular</td>\n",
       "      <td>nov</td>\n",
       "      <td>fri</td>\n",
       "      <td>...</td>\n",
       "      <td>-1.1</td>\n",
       "      <td>94.767</td>\n",
       "      <td>-50.8</td>\n",
       "      <td>1.028</td>\n",
       "      <td>4963.6</td>\n",
       "      <td>0</td>\n",
       "      <td>1</td>\n",
       "      <td>0</td>\n",
       "      <td>0</td>\n",
       "      <td>0</td>\n",
       "    </tr>\n",
       "  </tbody>\n",
       "</table>\n",
       "<p>38671 rows × 23 columns</p>\n",
       "</div>"
      ],
      "text/plain": [
       "       age          job  marital            education default housing loan  \\\n",
       "0       56    housemaid  married             basic.4y      no      no   no   \n",
       "1       57     services  married          high.school      no      no   no   \n",
       "2       37     services  married          high.school      no     yes   no   \n",
       "3       40       admin.  married             basic.6y      no      no   no   \n",
       "4       56     services  married          high.school      no      no  yes   \n",
       "...    ...          ...      ...                  ...     ...     ...  ...   \n",
       "41183   73      retired  married  professional.course      no     yes   no   \n",
       "41184   46  blue-collar  married  professional.course      no      no   no   \n",
       "41185   56      retired  married    university.degree      no     yes   no   \n",
       "41186   44   technician  married  professional.course      no      no   no   \n",
       "41187   74      retired  married  professional.course      no     yes   no   \n",
       "\n",
       "         contact month day_of_week  ...  emp.var.rate  cons.price.idx  \\\n",
       "0      telephone   may         mon  ...           1.1          93.994   \n",
       "1      telephone   may         mon  ...           1.1          93.994   \n",
       "2      telephone   may         mon  ...           1.1          93.994   \n",
       "3      telephone   may         mon  ...           1.1          93.994   \n",
       "4      telephone   may         mon  ...           1.1          93.994   \n",
       "...          ...   ...         ...  ...           ...             ...   \n",
       "41183   cellular   nov         fri  ...          -1.1          94.767   \n",
       "41184   cellular   nov         fri  ...          -1.1          94.767   \n",
       "41185   cellular   nov         fri  ...          -1.1          94.767   \n",
       "41186   cellular   nov         fri  ...          -1.1          94.767   \n",
       "41187   cellular   nov         fri  ...          -1.1          94.767   \n",
       "\n",
       "      cons.conf.idx  euribor3m  nr.employed  y  pdays_missing  pdays_less_5  \\\n",
       "0             -36.4      4.857       5191.0  0              1             0   \n",
       "1             -36.4      4.857       5191.0  0              1             0   \n",
       "2             -36.4      4.857       5191.0  0              1             0   \n",
       "3             -36.4      4.857       5191.0  0              1             0   \n",
       "4             -36.4      4.857       5191.0  0              1             0   \n",
       "...             ...        ...          ... ..            ...           ...   \n",
       "41183         -50.8      1.028       4963.6  1              1             0   \n",
       "41184         -50.8      1.028       4963.6  0              1             0   \n",
       "41185         -50.8      1.028       4963.6  0              1             0   \n",
       "41186         -50.8      1.028       4963.6  1              1             0   \n",
       "41187         -50.8      1.028       4963.6  0              1             0   \n",
       "\n",
       "       pdays_greater_15  pdays_bet_5_15  \n",
       "0                     0               0  \n",
       "1                     0               0  \n",
       "2                     0               0  \n",
       "3                     0               0  \n",
       "4                     0               0  \n",
       "...                 ...             ...  \n",
       "41183                 0               0  \n",
       "41184                 0               0  \n",
       "41185                 0               0  \n",
       "41186                 0               0  \n",
       "41187                 0               0  \n",
       "\n",
       "[38671 rows x 23 columns]"
      ]
     },
     "execution_count": 21,
     "metadata": {},
     "output_type": "execute_result"
    }
   ],
   "source": [
    "data"
   ]
  },
  {
   "cell_type": "markdown",
   "id": "0024a04c",
   "metadata": {
    "papermill": {
     "duration": 0.02562,
     "end_time": "2022-06-26T11:00:33.758724",
     "exception": false,
     "start_time": "2022-06-26T11:00:33.733104",
     "status": "completed"
    },
    "tags": []
   },
   "source": [
    "<a id = \"8\"></a>\n",
    "\n",
    "### Handling Outliers"
   ]
  },
  {
   "cell_type": "markdown",
   "id": "49f93958",
   "metadata": {
    "papermill": {
     "duration": 0.02536,
     "end_time": "2022-06-26T11:00:33.810023",
     "exception": false,
     "start_time": "2022-06-26T11:00:33.784663",
     "status": "completed"
    },
    "tags": []
   },
   "source": [
    "Wikipedia definition: In statistics, an **outlier** is an observation point that is distant from other observations.\n",
    "\n",
    "Outliers may be caused by many different reasons. Such as a mistake during data collection or it can be just an sign of variance in your data. \n",
    "\n",
    "    1st quartile (Q1): %25\n",
    "    2nd quartile (Q2): Median value\n",
    "    3rd quartile (Q3): %75\n",
    "\n",
    "    IQR = Q3 - Q1\n",
    "\n",
    "    Lower Outlier Limit = Q1 - (1.5 * IQR)\n",
    "    Higher Outlier Limit = Q3 + (1.5 * IQR)\n",
    "    \n",
    "    Values that lower than lower outlier limit and higher than higher outlier limit are our outliers.\n",
    "\n",
    "\n",
    "\n",
    "Box plots are one of the good ways to see outliers."
   ]
  },
  {
   "cell_type": "code",
   "execution_count": 22,
   "id": "ae1acad5",
   "metadata": {
    "execution": {
     "iopub.execute_input": "2022-06-26T11:00:33.863512Z",
     "iopub.status.busy": "2022-06-26T11:00:33.862887Z",
     "iopub.status.idle": "2022-06-26T11:00:33.874188Z",
     "shell.execute_reply": "2022-06-26T11:00:33.873076Z"
    },
    "papermill": {
     "duration": 0.040735,
     "end_time": "2022-06-26T11:00:33.876708",
     "exception": false,
     "start_time": "2022-06-26T11:00:33.835973",
     "status": "completed"
    },
    "tags": []
   },
   "outputs": [],
   "source": [
    "def outlier_plotting(feature):\n",
    "    outlier = []\n",
    "    outlier_indexes = []    \n",
    "    # Plotting section\n",
    "    plt.figure(figsize=(7,2))\n",
    "    sns.boxplot(x=data[feature], palette=\"Set3\")\n",
    "    plt.title(\"{}'s Outlier Box Plot\".format(feature), weight = \"bold\")\n",
    "    plt.xlabel(feature, weight = \"bold\")\n",
    "    plt.show()\n",
    "    \n",
    "    # Outlier computing\n",
    "    Q1 = data[feature].quantile(0.25)\n",
    "    Q3 = data[feature].quantile(0.75)\n",
    "    IQR = Q3 - Q1\n",
    "    lower_outlier_limit = Q1 - (1.5 * IQR)\n",
    "    higher_outlier_limit = Q3 + (1.5 * IQR)\n",
    "    \n",
    "    print(\"Values lower than {:.2f} and higher than {:.2f} are outliers for {}. \\n\"\n",
    "          .format(lower_outlier_limit,higher_outlier_limit,feature))\n",
    "\n",
    "    # There are different ways to detect and show outlier values, I will use Z-Score method instead of writing conditional function.\n",
    "    \n",
    "    # Outlier detecting\n",
    "    threshold = 3\n",
    "\n",
    "    for i in data[feature]:\n",
    "        z = (i-data[feature].mean())/data[feature].std()\n",
    "        if z > threshold: \n",
    "            outlier.append(i)\n",
    "            index = data[data[feature] == i].index[0]\n",
    "            outlier_indexes.append(index)      \n",
    "    if outlier == []:\n",
    "        print(\"No any outliers for {}.\".format(feature))"
   ]
  },
  {
   "cell_type": "code",
   "execution_count": 23,
   "id": "757126e8",
   "metadata": {
    "execution": {
     "iopub.execute_input": "2022-06-26T11:00:33.930352Z",
     "iopub.status.busy": "2022-06-26T11:00:33.929936Z",
     "iopub.status.idle": "2022-06-26T11:03:16.636466Z",
     "shell.execute_reply": "2022-06-26T11:03:16.635266Z"
    },
    "papermill": {
     "duration": 162.76862,
     "end_time": "2022-06-26T11:03:16.671399",
     "exception": false,
     "start_time": "2022-06-26T11:00:33.902779",
     "status": "completed"
    },
    "tags": []
   },
   "outputs": [
    {
     "data": {
      "image/png": "[encoded data removed]",
      "text/plain": [
       "<Figure size 504x144 with 1 Axes>"
      ]
     },
     "metadata": {
      "needs_background": "light"
     },
     "output_type": "display_data"
    },
    {
     "name": "stdout",
     "output_type": "stream",
     "text": [
      "Values lower than 9.50 and higher than 69.50 are outliers for age. \n",
      "\n"
     ]
    },
    {
     "data": {
      "image/png": "[encoded data removed]",
      "text/plain": [
       "<Figure size 504x144 with 1 Axes>"
      ]
     },
     "metadata": {
      "needs_background": "light"
     },
     "output_type": "display_data"
    },
    {
     "name": "stdout",
     "output_type": "stream",
     "text": [
      "Values lower than -2.00 and higher than 6.00 are outliers for campaign. \n",
      "\n"
     ]
    },
    {
     "data": {
      "image/png": "[encoded data removed]",
      "text/plain": [
       "<Figure size 504x144 with 1 Axes>"
      ]
     },
     "metadata": {
      "needs_background": "light"
     },
     "output_type": "display_data"
    },
    {
     "name": "stdout",
     "output_type": "stream",
     "text": [
      "Values lower than 0.00 and higher than 0.00 are outliers for previous. \n",
      "\n"
     ]
    },
    {
     "data": {
      "image/png": "[encoded data removed]",
      "text/plain": [
       "<Figure size 504x144 with 1 Axes>"
      ]
     },
     "metadata": {
      "needs_background": "light"
     },
     "output_type": "display_data"
    },
    {
     "name": "stdout",
     "output_type": "stream",
     "text": [
      "Values lower than -6.60 and higher than 6.20 are outliers for emp.var.rate. \n",
      "\n",
      "No any outliers for emp.var.rate.\n"
     ]
    },
    {
     "data": {
      "image/png": "[encoded data removed]",
      "text/plain": [
       "<Figure size 504x144 with 1 Axes>"
      ]
     },
     "metadata": {
      "needs_background": "light"
     },
     "output_type": "display_data"
    },
    {
     "name": "stdout",
     "output_type": "stream",
     "text": [
      "Values lower than 91.70 and higher than 95.37 are outliers for cons.price.idx. \n",
      "\n",
      "No any outliers for cons.price.idx.\n"
     ]
    },
    {
     "data": {
      "image/png": "[encoded data removed]",
      "text/plain": [
       "<Figure size 504x144 with 1 Axes>"
      ]
     },
     "metadata": {
      "needs_background": "light"
     },
     "output_type": "display_data"
    },
    {
     "name": "stdout",
     "output_type": "stream",
     "text": [
      "Values lower than -52.15 and higher than -26.95 are outliers for cons.conf.idx. \n",
      "\n",
      "No any outliers for cons.conf.idx.\n"
     ]
    },
    {
     "data": {
      "image/png": "[encoded data removed]",
      "text/plain": [
       "<Figure size 504x144 with 1 Axes>"
      ]
     },
     "metadata": {
      "needs_background": "light"
     },
     "output_type": "display_data"
    },
    {
     "name": "stdout",
     "output_type": "stream",
     "text": [
      "Values lower than -4.08 and higher than 10.39 are outliers for euribor3m. \n",
      "\n",
      "No any outliers for euribor3m.\n"
     ]
    },
    {
     "data": {
      "image/png": "[encoded data removed]",
      "text/plain": [
       "<Figure size 504x144 with 1 Axes>"
      ]
     },
     "metadata": {
      "needs_background": "light"
     },
     "output_type": "display_data"
    },
    {
     "name": "stdout",
     "output_type": "stream",
     "text": [
      "Values lower than 4905.60 and higher than 5421.60 are outliers for nr.employed. \n",
      "\n",
      "No any outliers for nr.employed.\n"
     ]
    }
   ],
   "source": [
    "new_numerical_variables = ['age','campaign', 'previous', 'emp.var.rate', 'cons.price.idx','cons.conf.idx','euribor3m',\n",
    "                      'nr.employed']\n",
    "\n",
    "for i in new_numerical_variables:\n",
    "    outlier_plotting(i)"
   ]
  },
  {
   "cell_type": "code",
   "execution_count": 24,
   "id": "6972f0c9",
   "metadata": {
    "execution": {
     "iopub.execute_input": "2022-06-26T11:03:16.733997Z",
     "iopub.status.busy": "2022-06-26T11:03:16.733549Z",
     "iopub.status.idle": "2022-06-26T11:03:16.740004Z",
     "shell.execute_reply": "2022-06-26T11:03:16.739233Z"
    },
    "papermill": {
     "duration": 0.039218,
     "end_time": "2022-06-26T11:03:16.742281",
     "exception": false,
     "start_time": "2022-06-26T11:03:16.703063",
     "status": "completed"
    },
    "tags": []
   },
   "outputs": [],
   "source": [
    "def outlier_index(data, feature):\n",
    "\n",
    "    outlier_indexes = []    \n",
    "\n",
    "    # Outlier detecting\n",
    "    \n",
    "    threshold = 3\n",
    "    \n",
    "    for a in feature:\n",
    "        for i in data[a]:\n",
    "            z = (i-data[a].mean())/data[a].std()\n",
    "            if z > threshold: \n",
    "                index = data[data[a] == i].index[0]\n",
    "                # Here we detected the outlier, now we need to save its index. \n",
    "                # Becasue we need need to display its row via \"loc\" method and remove from the data.\n",
    "                outlier_indexes.append(index) \n",
    "    return outlier_indexes"
   ]
  },
  {
   "cell_type": "code",
   "execution_count": 25,
   "id": "8c8f28f5",
   "metadata": {
    "execution": {
     "iopub.execute_input": "2022-06-26T11:03:16.803456Z",
     "iopub.status.busy": "2022-06-26T11:03:16.802408Z",
     "iopub.status.idle": "2022-06-26T11:05:56.915506Z",
     "shell.execute_reply": "2022-06-26T11:05:56.914375Z"
    },
    "papermill": {
     "duration": 160.176016,
     "end_time": "2022-06-26T11:05:56.947829",
     "exception": false,
     "start_time": "2022-06-26T11:03:16.771813",
     "status": "completed"
    },
    "tags": []
   },
   "outputs": [
    {
     "data": {
      "text/html": [
       "<div>\n",
       "<style scoped>\n",
       "    .dataframe tbody tr th:only-of-type {\n",
       "        vertical-align: middle;\n",
       "    }\n",
       "\n",
       "    .dataframe tbody tr th {\n",
       "        vertical-align: top;\n",
       "    }\n",
       "\n",
       "    .dataframe thead th {\n",
       "        text-align: right;\n",
       "    }\n",
       "</style>\n",
       "<table border=\"1\" class=\"dataframe\">\n",
       "  <thead>\n",
       "    <tr style=\"text-align: right;\">\n",
       "      <th></th>\n",
       "      <th>age</th>\n",
       "      <th>job</th>\n",
       "      <th>marital</th>\n",
       "      <th>education</th>\n",
       "      <th>default</th>\n",
       "      <th>housing</th>\n",
       "      <th>loan</th>\n",
       "      <th>contact</th>\n",
       "      <th>month</th>\n",
       "      <th>day_of_week</th>\n",
       "      <th>...</th>\n",
       "      <th>emp.var.rate</th>\n",
       "      <th>cons.price.idx</th>\n",
       "      <th>cons.conf.idx</th>\n",
       "      <th>euribor3m</th>\n",
       "      <th>nr.employed</th>\n",
       "      <th>y</th>\n",
       "      <th>pdays_missing</th>\n",
       "      <th>pdays_less_5</th>\n",
       "      <th>pdays_greater_15</th>\n",
       "      <th>pdays_bet_5_15</th>\n",
       "    </tr>\n",
       "  </thead>\n",
       "  <tbody>\n",
       "    <tr>\n",
       "      <th>27757</th>\n",
       "      <td>76</td>\n",
       "      <td>retired</td>\n",
       "      <td>married</td>\n",
       "      <td>university.degree</td>\n",
       "      <td>no</td>\n",
       "      <td>no</td>\n",
       "      <td>yes</td>\n",
       "      <td>cellular</td>\n",
       "      <td>mar</td>\n",
       "      <td>thu</td>\n",
       "      <td>...</td>\n",
       "      <td>-1.8</td>\n",
       "      <td>92.843</td>\n",
       "      <td>-50.0</td>\n",
       "      <td>1.757</td>\n",
       "      <td>5099.1</td>\n",
       "      <td>0</td>\n",
       "      <td>1</td>\n",
       "      <td>0</td>\n",
       "      <td>0</td>\n",
       "      <td>0</td>\n",
       "    </tr>\n",
       "    <tr>\n",
       "      <th>27780</th>\n",
       "      <td>73</td>\n",
       "      <td>retired</td>\n",
       "      <td>married</td>\n",
       "      <td>university.degree</td>\n",
       "      <td>no</td>\n",
       "      <td>yes</td>\n",
       "      <td>no</td>\n",
       "      <td>cellular</td>\n",
       "      <td>mar</td>\n",
       "      <td>tue</td>\n",
       "      <td>...</td>\n",
       "      <td>-1.8</td>\n",
       "      <td>92.843</td>\n",
       "      <td>-50.0</td>\n",
       "      <td>1.687</td>\n",
       "      <td>5099.1</td>\n",
       "      <td>0</td>\n",
       "      <td>1</td>\n",
       "      <td>0</td>\n",
       "      <td>0</td>\n",
       "      <td>0</td>\n",
       "    </tr>\n",
       "    <tr>\n",
       "      <th>27800</th>\n",
       "      <td>88</td>\n",
       "      <td>retired</td>\n",
       "      <td>divorced</td>\n",
       "      <td>basic.4y</td>\n",
       "      <td>no</td>\n",
       "      <td>yes</td>\n",
       "      <td>no</td>\n",
       "      <td>cellular</td>\n",
       "      <td>mar</td>\n",
       "      <td>wed</td>\n",
       "      <td>...</td>\n",
       "      <td>-1.8</td>\n",
       "      <td>92.843</td>\n",
       "      <td>-50.0</td>\n",
       "      <td>1.663</td>\n",
       "      <td>5099.1</td>\n",
       "      <td>0</td>\n",
       "      <td>1</td>\n",
       "      <td>0</td>\n",
       "      <td>0</td>\n",
       "      <td>0</td>\n",
       "    </tr>\n",
       "    <tr>\n",
       "      <th>27800</th>\n",
       "      <td>88</td>\n",
       "      <td>retired</td>\n",
       "      <td>divorced</td>\n",
       "      <td>basic.4y</td>\n",
       "      <td>no</td>\n",
       "      <td>yes</td>\n",
       "      <td>no</td>\n",
       "      <td>cellular</td>\n",
       "      <td>mar</td>\n",
       "      <td>wed</td>\n",
       "      <td>...</td>\n",
       "      <td>-1.8</td>\n",
       "      <td>92.843</td>\n",
       "      <td>-50.0</td>\n",
       "      <td>1.663</td>\n",
       "      <td>5099.1</td>\n",
       "      <td>0</td>\n",
       "      <td>1</td>\n",
       "      <td>0</td>\n",
       "      <td>0</td>\n",
       "      <td>0</td>\n",
       "    </tr>\n",
       "    <tr>\n",
       "      <th>27800</th>\n",
       "      <td>88</td>\n",
       "      <td>retired</td>\n",
       "      <td>divorced</td>\n",
       "      <td>basic.4y</td>\n",
       "      <td>no</td>\n",
       "      <td>yes</td>\n",
       "      <td>no</td>\n",
       "      <td>cellular</td>\n",
       "      <td>mar</td>\n",
       "      <td>wed</td>\n",
       "      <td>...</td>\n",
       "      <td>-1.8</td>\n",
       "      <td>92.843</td>\n",
       "      <td>-50.0</td>\n",
       "      <td>1.663</td>\n",
       "      <td>5099.1</td>\n",
       "      <td>0</td>\n",
       "      <td>1</td>\n",
       "      <td>0</td>\n",
       "      <td>0</td>\n",
       "      <td>0</td>\n",
       "    </tr>\n",
       "    <tr>\n",
       "      <th>...</th>\n",
       "      <td>...</td>\n",
       "      <td>...</td>\n",
       "      <td>...</td>\n",
       "      <td>...</td>\n",
       "      <td>...</td>\n",
       "      <td>...</td>\n",
       "      <td>...</td>\n",
       "      <td>...</td>\n",
       "      <td>...</td>\n",
       "      <td>...</td>\n",
       "      <td>...</td>\n",
       "      <td>...</td>\n",
       "      <td>...</td>\n",
       "      <td>...</td>\n",
       "      <td>...</td>\n",
       "      <td>...</td>\n",
       "      <td>...</td>\n",
       "      <td>...</td>\n",
       "      <td>...</td>\n",
       "      <td>...</td>\n",
       "      <td>...</td>\n",
       "    </tr>\n",
       "    <tr>\n",
       "      <th>25996</th>\n",
       "      <td>35</td>\n",
       "      <td>management</td>\n",
       "      <td>married</td>\n",
       "      <td>university.degree</td>\n",
       "      <td>no</td>\n",
       "      <td>yes</td>\n",
       "      <td>yes</td>\n",
       "      <td>telephone</td>\n",
       "      <td>nov</td>\n",
       "      <td>wed</td>\n",
       "      <td>...</td>\n",
       "      <td>-0.1</td>\n",
       "      <td>93.200</td>\n",
       "      <td>-42.0</td>\n",
       "      <td>4.120</td>\n",
       "      <td>5195.8</td>\n",
       "      <td>0</td>\n",
       "      <td>0</td>\n",
       "      <td>1</td>\n",
       "      <td>0</td>\n",
       "      <td>0</td>\n",
       "    </tr>\n",
       "    <tr>\n",
       "      <th>36460</th>\n",
       "      <td>55</td>\n",
       "      <td>retired</td>\n",
       "      <td>married</td>\n",
       "      <td>basic.4y</td>\n",
       "      <td>no</td>\n",
       "      <td>no</td>\n",
       "      <td>no</td>\n",
       "      <td>cellular</td>\n",
       "      <td>jun</td>\n",
       "      <td>tue</td>\n",
       "      <td>...</td>\n",
       "      <td>-2.9</td>\n",
       "      <td>92.963</td>\n",
       "      <td>-40.8</td>\n",
       "      <td>1.262</td>\n",
       "      <td>5076.2</td>\n",
       "      <td>0</td>\n",
       "      <td>0</td>\n",
       "      <td>1</td>\n",
       "      <td>0</td>\n",
       "      <td>0</td>\n",
       "    </tr>\n",
       "    <tr>\n",
       "      <th>25996</th>\n",
       "      <td>35</td>\n",
       "      <td>management</td>\n",
       "      <td>married</td>\n",
       "      <td>university.degree</td>\n",
       "      <td>no</td>\n",
       "      <td>yes</td>\n",
       "      <td>yes</td>\n",
       "      <td>telephone</td>\n",
       "      <td>nov</td>\n",
       "      <td>wed</td>\n",
       "      <td>...</td>\n",
       "      <td>-0.1</td>\n",
       "      <td>93.200</td>\n",
       "      <td>-42.0</td>\n",
       "      <td>4.120</td>\n",
       "      <td>5195.8</td>\n",
       "      <td>0</td>\n",
       "      <td>0</td>\n",
       "      <td>1</td>\n",
       "      <td>0</td>\n",
       "      <td>0</td>\n",
       "    </tr>\n",
       "    <tr>\n",
       "      <th>40395</th>\n",
       "      <td>48</td>\n",
       "      <td>admin.</td>\n",
       "      <td>divorced</td>\n",
       "      <td>university.degree</td>\n",
       "      <td>no</td>\n",
       "      <td>no</td>\n",
       "      <td>no</td>\n",
       "      <td>cellular</td>\n",
       "      <td>aug</td>\n",
       "      <td>thu</td>\n",
       "      <td>...</td>\n",
       "      <td>-1.7</td>\n",
       "      <td>94.027</td>\n",
       "      <td>-38.3</td>\n",
       "      <td>0.904</td>\n",
       "      <td>4991.6</td>\n",
       "      <td>1</td>\n",
       "      <td>0</td>\n",
       "      <td>1</td>\n",
       "      <td>0</td>\n",
       "      <td>0</td>\n",
       "    </tr>\n",
       "    <tr>\n",
       "      <th>28021</th>\n",
       "      <td>26</td>\n",
       "      <td>services</td>\n",
       "      <td>single</td>\n",
       "      <td>high.school</td>\n",
       "      <td>no</td>\n",
       "      <td>no</td>\n",
       "      <td>no</td>\n",
       "      <td>cellular</td>\n",
       "      <td>apr</td>\n",
       "      <td>thu</td>\n",
       "      <td>...</td>\n",
       "      <td>-1.8</td>\n",
       "      <td>93.075</td>\n",
       "      <td>-47.1</td>\n",
       "      <td>1.483</td>\n",
       "      <td>5099.1</td>\n",
       "      <td>0</td>\n",
       "      <td>0</td>\n",
       "      <td>1</td>\n",
       "      <td>0</td>\n",
       "      <td>0</td>\n",
       "    </tr>\n",
       "  </tbody>\n",
       "</table>\n",
       "<p>2137 rows × 23 columns</p>\n",
       "</div>"
      ],
      "text/plain": [
       "       age         job   marital          education default housing loan  \\\n",
       "27757   76     retired   married  university.degree      no      no  yes   \n",
       "27780   73     retired   married  university.degree      no     yes   no   \n",
       "27800   88     retired  divorced           basic.4y      no     yes   no   \n",
       "27800   88     retired  divorced           basic.4y      no     yes   no   \n",
       "27800   88     retired  divorced           basic.4y      no     yes   no   \n",
       "...    ...         ...       ...                ...     ...     ...  ...   \n",
       "25996   35  management   married  university.degree      no     yes  yes   \n",
       "36460   55     retired   married           basic.4y      no      no   no   \n",
       "25996   35  management   married  university.degree      no     yes  yes   \n",
       "40395   48      admin.  divorced  university.degree      no      no   no   \n",
       "28021   26    services    single        high.school      no      no   no   \n",
       "\n",
       "         contact month day_of_week  ...  emp.var.rate  cons.price.idx  \\\n",
       "27757   cellular   mar         thu  ...          -1.8          92.843   \n",
       "27780   cellular   mar         tue  ...          -1.8          92.843   \n",
       "27800   cellular   mar         wed  ...          -1.8          92.843   \n",
       "27800   cellular   mar         wed  ...          -1.8          92.843   \n",
       "27800   cellular   mar         wed  ...          -1.8          92.843   \n",
       "...          ...   ...         ...  ...           ...             ...   \n",
       "25996  telephone   nov         wed  ...          -0.1          93.200   \n",
       "36460   cellular   jun         tue  ...          -2.9          92.963   \n",
       "25996  telephone   nov         wed  ...          -0.1          93.200   \n",
       "40395   cellular   aug         thu  ...          -1.7          94.027   \n",
       "28021   cellular   apr         thu  ...          -1.8          93.075   \n",
       "\n",
       "      cons.conf.idx  euribor3m  nr.employed  y  pdays_missing  pdays_less_5  \\\n",
       "27757         -50.0      1.757       5099.1  0              1             0   \n",
       "27780         -50.0      1.687       5099.1  0              1             0   \n",
       "27800         -50.0      1.663       5099.1  0              1             0   \n",
       "27800         -50.0      1.663       5099.1  0              1             0   \n",
       "27800         -50.0      1.663       5099.1  0              1             0   \n",
       "...             ...        ...          ... ..            ...           ...   \n",
       "25996         -42.0      4.120       5195.8  0              0             1   \n",
       "36460         -40.8      1.262       5076.2  0              0             1   \n",
       "25996         -42.0      4.120       5195.8  0              0             1   \n",
       "40395         -38.3      0.904       4991.6  1              0             1   \n",
       "28021         -47.1      1.483       5099.1  0              0             1   \n",
       "\n",
       "       pdays_greater_15  pdays_bet_5_15  \n",
       "27757                 0               0  \n",
       "27780                 0               0  \n",
       "27800                 0               0  \n",
       "27800                 0               0  \n",
       "27800                 0               0  \n",
       "...                 ...             ...  \n",
       "25996                 0               0  \n",
       "36460                 0               0  \n",
       "25996                 0               0  \n",
       "40395                 0               0  \n",
       "28021                 0               0  \n",
       "\n",
       "[2137 rows x 23 columns]"
      ]
     },
     "execution_count": 25,
     "metadata": {},
     "output_type": "execute_result"
    }
   ],
   "source": [
    "data.loc[outlier_index(data,new_numerical_variables)]"
   ]
  },
  {
   "cell_type": "code",
   "execution_count": 26,
   "id": "c4016020",
   "metadata": {
    "execution": {
     "iopub.execute_input": "2022-06-26T11:05:57.008281Z",
     "iopub.status.busy": "2022-06-26T11:05:57.007896Z",
     "iopub.status.idle": "2022-06-26T11:08:36.430573Z",
     "shell.execute_reply": "2022-06-26T11:08:36.429464Z"
    },
    "papermill": {
     "duration": 159.483688,
     "end_time": "2022-06-26T11:08:36.461050",
     "exception": false,
     "start_time": "2022-06-26T11:05:56.977362",
     "status": "completed"
    },
    "tags": []
   },
   "outputs": [
    {
     "name": "stdout",
     "output_type": "stream",
     "text": [
      "<class 'pandas.core.frame.DataFrame'>\n",
      "RangeIndex: 38611 entries, 0 to 38610\n",
      "Data columns (total 23 columns):\n",
      " #   Column            Non-Null Count  Dtype  \n",
      "---  ------            --------------  -----  \n",
      " 0   age               38611 non-null  int64  \n",
      " 1   job               38611 non-null  object \n",
      " 2   marital           38611 non-null  object \n",
      " 3   education         38611 non-null  object \n",
      " 4   default           38611 non-null  object \n",
      " 5   housing           38611 non-null  object \n",
      " 6   loan              38611 non-null  object \n",
      " 7   contact           38611 non-null  object \n",
      " 8   month             38611 non-null  object \n",
      " 9   day_of_week       38611 non-null  object \n",
      " 10  campaign          38611 non-null  int64  \n",
      " 11  previous          38611 non-null  int64  \n",
      " 12  poutcome          38611 non-null  object \n",
      " 13  emp.var.rate      38611 non-null  float64\n",
      " 14  cons.price.idx    38611 non-null  float64\n",
      " 15  cons.conf.idx     38611 non-null  float64\n",
      " 16  euribor3m         38611 non-null  float64\n",
      " 17  nr.employed       38611 non-null  float64\n",
      " 18  y                 38611 non-null  int64  \n",
      " 19  pdays_missing     38611 non-null  int64  \n",
      " 20  pdays_less_5      38611 non-null  int64  \n",
      " 21  pdays_greater_15  38611 non-null  int64  \n",
      " 22  pdays_bet_5_15    38611 non-null  int64  \n",
      "dtypes: float64(5), int64(8), object(10)\n",
      "memory usage: 6.8+ MB\n"
     ]
    }
   ],
   "source": [
    "data = data.drop(outlier_index(data,new_numerical_variables),axis = 0).reset_index(drop = True)\n",
    "# There are no outliers in data anymore.\n",
    "data.info()"
   ]
  },
  {
   "cell_type": "markdown",
   "id": "2f380718",
   "metadata": {
    "papermill": {
     "duration": 0.028149,
     "end_time": "2022-06-26T11:08:36.517780",
     "exception": false,
     "start_time": "2022-06-26T11:08:36.489631",
     "status": "completed"
    },
    "tags": []
   },
   "source": [
    "<a id = \"9\"></a>\n",
    "## Modelling\n",
    "\n",
    "<a id = \"10\"></a>\n",
    "\n",
    "### Preparing Data"
   ]
  },
  {
   "cell_type": "code",
   "execution_count": 27,
   "id": "fc187229",
   "metadata": {
    "execution": {
     "iopub.execute_input": "2022-06-26T11:08:36.595625Z",
     "iopub.status.busy": "2022-06-26T11:08:36.595262Z",
     "iopub.status.idle": "2022-06-26T11:08:36.618005Z",
     "shell.execute_reply": "2022-06-26T11:08:36.616880Z"
    },
    "papermill": {
     "duration": 0.066182,
     "end_time": "2022-06-26T11:08:36.620505",
     "exception": false,
     "start_time": "2022-06-26T11:08:36.554323",
     "status": "completed"
    },
    "tags": []
   },
   "outputs": [
    {
     "data": {
      "text/html": [
       "<div>\n",
       "<style scoped>\n",
       "    .dataframe tbody tr th:only-of-type {\n",
       "        vertical-align: middle;\n",
       "    }\n",
       "\n",
       "    .dataframe tbody tr th {\n",
       "        vertical-align: top;\n",
       "    }\n",
       "\n",
       "    .dataframe thead th {\n",
       "        text-align: right;\n",
       "    }\n",
       "</style>\n",
       "<table border=\"1\" class=\"dataframe\">\n",
       "  <thead>\n",
       "    <tr style=\"text-align: right;\">\n",
       "      <th></th>\n",
       "      <th>poutcome</th>\n",
       "      <th>day_of_week</th>\n",
       "      <th>month</th>\n",
       "      <th>contact</th>\n",
       "      <th>loan</th>\n",
       "      <th>housing</th>\n",
       "      <th>default</th>\n",
       "      <th>education</th>\n",
       "      <th>marital</th>\n",
       "      <th>job</th>\n",
       "      <th>y</th>\n",
       "    </tr>\n",
       "  </thead>\n",
       "  <tbody>\n",
       "    <tr>\n",
       "      <th>0</th>\n",
       "      <td>nonexistent</td>\n",
       "      <td>mon</td>\n",
       "      <td>may</td>\n",
       "      <td>telephone</td>\n",
       "      <td>no</td>\n",
       "      <td>no</td>\n",
       "      <td>no</td>\n",
       "      <td>basic.4y</td>\n",
       "      <td>married</td>\n",
       "      <td>housemaid</td>\n",
       "      <td>0</td>\n",
       "    </tr>\n",
       "    <tr>\n",
       "      <th>1</th>\n",
       "      <td>nonexistent</td>\n",
       "      <td>mon</td>\n",
       "      <td>may</td>\n",
       "      <td>telephone</td>\n",
       "      <td>no</td>\n",
       "      <td>no</td>\n",
       "      <td>no</td>\n",
       "      <td>high.school</td>\n",
       "      <td>married</td>\n",
       "      <td>services</td>\n",
       "      <td>0</td>\n",
       "    </tr>\n",
       "    <tr>\n",
       "      <th>2</th>\n",
       "      <td>nonexistent</td>\n",
       "      <td>mon</td>\n",
       "      <td>may</td>\n",
       "      <td>telephone</td>\n",
       "      <td>no</td>\n",
       "      <td>yes</td>\n",
       "      <td>no</td>\n",
       "      <td>high.school</td>\n",
       "      <td>married</td>\n",
       "      <td>services</td>\n",
       "      <td>0</td>\n",
       "    </tr>\n",
       "    <tr>\n",
       "      <th>3</th>\n",
       "      <td>nonexistent</td>\n",
       "      <td>mon</td>\n",
       "      <td>may</td>\n",
       "      <td>telephone</td>\n",
       "      <td>no</td>\n",
       "      <td>no</td>\n",
       "      <td>no</td>\n",
       "      <td>basic.6y</td>\n",
       "      <td>married</td>\n",
       "      <td>admin.</td>\n",
       "      <td>0</td>\n",
       "    </tr>\n",
       "    <tr>\n",
       "      <th>4</th>\n",
       "      <td>nonexistent</td>\n",
       "      <td>mon</td>\n",
       "      <td>may</td>\n",
       "      <td>telephone</td>\n",
       "      <td>yes</td>\n",
       "      <td>no</td>\n",
       "      <td>no</td>\n",
       "      <td>high.school</td>\n",
       "      <td>married</td>\n",
       "      <td>services</td>\n",
       "      <td>0</td>\n",
       "    </tr>\n",
       "    <tr>\n",
       "      <th>...</th>\n",
       "      <td>...</td>\n",
       "      <td>...</td>\n",
       "      <td>...</td>\n",
       "      <td>...</td>\n",
       "      <td>...</td>\n",
       "      <td>...</td>\n",
       "      <td>...</td>\n",
       "      <td>...</td>\n",
       "      <td>...</td>\n",
       "      <td>...</td>\n",
       "      <td>...</td>\n",
       "    </tr>\n",
       "    <tr>\n",
       "      <th>38606</th>\n",
       "      <td>nonexistent</td>\n",
       "      <td>fri</td>\n",
       "      <td>nov</td>\n",
       "      <td>cellular</td>\n",
       "      <td>no</td>\n",
       "      <td>yes</td>\n",
       "      <td>no</td>\n",
       "      <td>professional.course</td>\n",
       "      <td>married</td>\n",
       "      <td>retired</td>\n",
       "      <td>1</td>\n",
       "    </tr>\n",
       "    <tr>\n",
       "      <th>38607</th>\n",
       "      <td>nonexistent</td>\n",
       "      <td>fri</td>\n",
       "      <td>nov</td>\n",
       "      <td>cellular</td>\n",
       "      <td>no</td>\n",
       "      <td>no</td>\n",
       "      <td>no</td>\n",
       "      <td>professional.course</td>\n",
       "      <td>married</td>\n",
       "      <td>blue-collar</td>\n",
       "      <td>0</td>\n",
       "    </tr>\n",
       "    <tr>\n",
       "      <th>38608</th>\n",
       "      <td>nonexistent</td>\n",
       "      <td>fri</td>\n",
       "      <td>nov</td>\n",
       "      <td>cellular</td>\n",
       "      <td>no</td>\n",
       "      <td>yes</td>\n",
       "      <td>no</td>\n",
       "      <td>university.degree</td>\n",
       "      <td>married</td>\n",
       "      <td>retired</td>\n",
       "      <td>0</td>\n",
       "    </tr>\n",
       "    <tr>\n",
       "      <th>38609</th>\n",
       "      <td>nonexistent</td>\n",
       "      <td>fri</td>\n",
       "      <td>nov</td>\n",
       "      <td>cellular</td>\n",
       "      <td>no</td>\n",
       "      <td>no</td>\n",
       "      <td>no</td>\n",
       "      <td>professional.course</td>\n",
       "      <td>married</td>\n",
       "      <td>technician</td>\n",
       "      <td>1</td>\n",
       "    </tr>\n",
       "    <tr>\n",
       "      <th>38610</th>\n",
       "      <td>failure</td>\n",
       "      <td>fri</td>\n",
       "      <td>nov</td>\n",
       "      <td>cellular</td>\n",
       "      <td>no</td>\n",
       "      <td>yes</td>\n",
       "      <td>no</td>\n",
       "      <td>professional.course</td>\n",
       "      <td>married</td>\n",
       "      <td>retired</td>\n",
       "      <td>0</td>\n",
       "    </tr>\n",
       "  </tbody>\n",
       "</table>\n",
       "<p>38611 rows × 11 columns</p>\n",
       "</div>"
      ],
      "text/plain": [
       "          poutcome day_of_week month    contact loan housing default  \\\n",
       "0      nonexistent         mon   may  telephone   no      no      no   \n",
       "1      nonexistent         mon   may  telephone   no      no      no   \n",
       "2      nonexistent         mon   may  telephone   no     yes      no   \n",
       "3      nonexistent         mon   may  telephone   no      no      no   \n",
       "4      nonexistent         mon   may  telephone  yes      no      no   \n",
       "...            ...         ...   ...        ...  ...     ...     ...   \n",
       "38606  nonexistent         fri   nov   cellular   no     yes      no   \n",
       "38607  nonexistent         fri   nov   cellular   no      no      no   \n",
       "38608  nonexistent         fri   nov   cellular   no     yes      no   \n",
       "38609  nonexistent         fri   nov   cellular   no      no      no   \n",
       "38610      failure         fri   nov   cellular   no     yes      no   \n",
       "\n",
       "                 education  marital          job  y  \n",
       "0                 basic.4y  married    housemaid  0  \n",
       "1              high.school  married     services  0  \n",
       "2              high.school  married     services  0  \n",
       "3                 basic.6y  married       admin.  0  \n",
       "4              high.school  married     services  0  \n",
       "...                    ...      ...          ... ..  \n",
       "38606  professional.course  married      retired  1  \n",
       "38607  professional.course  married  blue-collar  0  \n",
       "38608    university.degree  married      retired  0  \n",
       "38609  professional.course  married   technician  1  \n",
       "38610  professional.course  married      retired  0  \n",
       "\n",
       "[38611 rows x 11 columns]"
      ]
     },
     "execution_count": 27,
     "metadata": {},
     "output_type": "execute_result"
    }
   ],
   "source": [
    "data[categorical_variables]"
   ]
  },
  {
   "cell_type": "markdown",
   "id": "1a6b0107",
   "metadata": {
    "papermill": {
     "duration": 0.02929,
     "end_time": "2022-06-26T11:08:36.684072",
     "exception": false,
     "start_time": "2022-06-26T11:08:36.654782",
     "status": "completed"
    },
    "tags": []
   },
   "source": [
    "In order to use the data for modelling, it is necessary that convert categorical variables into numerical."
   ]
  },
  {
   "cell_type": "code",
   "execution_count": 28,
   "id": "a6a41d07",
   "metadata": {
    "execution": {
     "iopub.execute_input": "2022-06-26T11:08:36.743376Z",
     "iopub.status.busy": "2022-06-26T11:08:36.743002Z",
     "iopub.status.idle": "2022-06-26T11:08:36.748219Z",
     "shell.execute_reply": "2022-06-26T11:08:36.747249Z"
    },
    "papermill": {
     "duration": 0.037303,
     "end_time": "2022-06-26T11:08:36.750206",
     "exception": false,
     "start_time": "2022-06-26T11:08:36.712903",
     "status": "completed"
    },
    "tags": []
   },
   "outputs": [],
   "source": [
    "def dummy(data, columns):\n",
    "    for i in columns:\n",
    "        if i == \"y\":\n",
    "            continue\n",
    "        else:\n",
    "            data = pd.get_dummies(data, columns = [i])\n",
    "    return data"
   ]
  },
  {
   "cell_type": "code",
   "execution_count": 29,
   "id": "879a92bd",
   "metadata": {
    "execution": {
     "iopub.execute_input": "2022-06-26T11:08:36.811697Z",
     "iopub.status.busy": "2022-06-26T11:08:36.811001Z",
     "iopub.status.idle": "2022-06-26T11:08:36.970294Z",
     "shell.execute_reply": "2022-06-26T11:08:36.969498Z"
    },
    "papermill": {
     "duration": 0.192983,
     "end_time": "2022-06-26T11:08:36.972583",
     "exception": false,
     "start_time": "2022-06-26T11:08:36.779600",
     "status": "completed"
    },
    "tags": []
   },
   "outputs": [],
   "source": [
    "data = dummy(data, categorical_variables)"
   ]
  },
  {
   "cell_type": "code",
   "execution_count": 30,
   "id": "d8789ea2",
   "metadata": {
    "execution": {
     "iopub.execute_input": "2022-06-26T11:08:37.032620Z",
     "iopub.status.busy": "2022-06-26T11:08:37.031728Z",
     "iopub.status.idle": "2022-06-26T11:08:37.061786Z",
     "shell.execute_reply": "2022-06-26T11:08:37.060984Z"
    },
    "papermill": {
     "duration": 0.062046,
     "end_time": "2022-06-26T11:08:37.063684",
     "exception": false,
     "start_time": "2022-06-26T11:08:37.001638",
     "status": "completed"
    },
    "tags": []
   },
   "outputs": [
    {
     "data": {
      "text/html": [
       "<div>\n",
       "<style scoped>\n",
       "    .dataframe tbody tr th:only-of-type {\n",
       "        vertical-align: middle;\n",
       "    }\n",
       "\n",
       "    .dataframe tbody tr th {\n",
       "        vertical-align: top;\n",
       "    }\n",
       "\n",
       "    .dataframe thead th {\n",
       "        text-align: right;\n",
       "    }\n",
       "</style>\n",
       "<table border=\"1\" class=\"dataframe\">\n",
       "  <thead>\n",
       "    <tr style=\"text-align: right;\">\n",
       "      <th></th>\n",
       "      <th>age</th>\n",
       "      <th>campaign</th>\n",
       "      <th>previous</th>\n",
       "      <th>emp.var.rate</th>\n",
       "      <th>cons.price.idx</th>\n",
       "      <th>cons.conf.idx</th>\n",
       "      <th>euribor3m</th>\n",
       "      <th>nr.employed</th>\n",
       "      <th>y</th>\n",
       "      <th>pdays_missing</th>\n",
       "      <th>...</th>\n",
       "      <th>job_blue-collar</th>\n",
       "      <th>job_entrepreneur</th>\n",
       "      <th>job_housemaid</th>\n",
       "      <th>job_management</th>\n",
       "      <th>job_retired</th>\n",
       "      <th>job_self-employed</th>\n",
       "      <th>job_services</th>\n",
       "      <th>job_student</th>\n",
       "      <th>job_technician</th>\n",
       "      <th>job_unemployed</th>\n",
       "    </tr>\n",
       "  </thead>\n",
       "  <tbody>\n",
       "    <tr>\n",
       "      <th>0</th>\n",
       "      <td>56</td>\n",
       "      <td>1</td>\n",
       "      <td>0</td>\n",
       "      <td>1.1</td>\n",
       "      <td>93.994</td>\n",
       "      <td>-36.4</td>\n",
       "      <td>4.857</td>\n",
       "      <td>5191.0</td>\n",
       "      <td>0</td>\n",
       "      <td>1</td>\n",
       "      <td>...</td>\n",
       "      <td>0</td>\n",
       "      <td>0</td>\n",
       "      <td>1</td>\n",
       "      <td>0</td>\n",
       "      <td>0</td>\n",
       "      <td>0</td>\n",
       "      <td>0</td>\n",
       "      <td>0</td>\n",
       "      <td>0</td>\n",
       "      <td>0</td>\n",
       "    </tr>\n",
       "    <tr>\n",
       "      <th>1</th>\n",
       "      <td>57</td>\n",
       "      <td>1</td>\n",
       "      <td>0</td>\n",
       "      <td>1.1</td>\n",
       "      <td>93.994</td>\n",
       "      <td>-36.4</td>\n",
       "      <td>4.857</td>\n",
       "      <td>5191.0</td>\n",
       "      <td>0</td>\n",
       "      <td>1</td>\n",
       "      <td>...</td>\n",
       "      <td>0</td>\n",
       "      <td>0</td>\n",
       "      <td>0</td>\n",
       "      <td>0</td>\n",
       "      <td>0</td>\n",
       "      <td>0</td>\n",
       "      <td>1</td>\n",
       "      <td>0</td>\n",
       "      <td>0</td>\n",
       "      <td>0</td>\n",
       "    </tr>\n",
       "    <tr>\n",
       "      <th>2</th>\n",
       "      <td>37</td>\n",
       "      <td>1</td>\n",
       "      <td>0</td>\n",
       "      <td>1.1</td>\n",
       "      <td>93.994</td>\n",
       "      <td>-36.4</td>\n",
       "      <td>4.857</td>\n",
       "      <td>5191.0</td>\n",
       "      <td>0</td>\n",
       "      <td>1</td>\n",
       "      <td>...</td>\n",
       "      <td>0</td>\n",
       "      <td>0</td>\n",
       "      <td>0</td>\n",
       "      <td>0</td>\n",
       "      <td>0</td>\n",
       "      <td>0</td>\n",
       "      <td>1</td>\n",
       "      <td>0</td>\n",
       "      <td>0</td>\n",
       "      <td>0</td>\n",
       "    </tr>\n",
       "    <tr>\n",
       "      <th>3</th>\n",
       "      <td>40</td>\n",
       "      <td>1</td>\n",
       "      <td>0</td>\n",
       "      <td>1.1</td>\n",
       "      <td>93.994</td>\n",
       "      <td>-36.4</td>\n",
       "      <td>4.857</td>\n",
       "      <td>5191.0</td>\n",
       "      <td>0</td>\n",
       "      <td>1</td>\n",
       "      <td>...</td>\n",
       "      <td>0</td>\n",
       "      <td>0</td>\n",
       "      <td>0</td>\n",
       "      <td>0</td>\n",
       "      <td>0</td>\n",
       "      <td>0</td>\n",
       "      <td>0</td>\n",
       "      <td>0</td>\n",
       "      <td>0</td>\n",
       "      <td>0</td>\n",
       "    </tr>\n",
       "    <tr>\n",
       "      <th>4</th>\n",
       "      <td>56</td>\n",
       "      <td>1</td>\n",
       "      <td>0</td>\n",
       "      <td>1.1</td>\n",
       "      <td>93.994</td>\n",
       "      <td>-36.4</td>\n",
       "      <td>4.857</td>\n",
       "      <td>5191.0</td>\n",
       "      <td>0</td>\n",
       "      <td>1</td>\n",
       "      <td>...</td>\n",
       "      <td>0</td>\n",
       "      <td>0</td>\n",
       "      <td>0</td>\n",
       "      <td>0</td>\n",
       "      <td>0</td>\n",
       "      <td>0</td>\n",
       "      <td>1</td>\n",
       "      <td>0</td>\n",
       "      <td>0</td>\n",
       "      <td>0</td>\n",
       "    </tr>\n",
       "    <tr>\n",
       "      <th>...</th>\n",
       "      <td>...</td>\n",
       "      <td>...</td>\n",
       "      <td>...</td>\n",
       "      <td>...</td>\n",
       "      <td>...</td>\n",
       "      <td>...</td>\n",
       "      <td>...</td>\n",
       "      <td>...</td>\n",
       "      <td>...</td>\n",
       "      <td>...</td>\n",
       "      <td>...</td>\n",
       "      <td>...</td>\n",
       "      <td>...</td>\n",
       "      <td>...</td>\n",
       "      <td>...</td>\n",
       "      <td>...</td>\n",
       "      <td>...</td>\n",
       "      <td>...</td>\n",
       "      <td>...</td>\n",
       "      <td>...</td>\n",
       "      <td>...</td>\n",
       "    </tr>\n",
       "    <tr>\n",
       "      <th>38606</th>\n",
       "      <td>73</td>\n",
       "      <td>1</td>\n",
       "      <td>0</td>\n",
       "      <td>-1.1</td>\n",
       "      <td>94.767</td>\n",
       "      <td>-50.8</td>\n",
       "      <td>1.028</td>\n",
       "      <td>4963.6</td>\n",
       "      <td>1</td>\n",
       "      <td>1</td>\n",
       "      <td>...</td>\n",
       "      <td>0</td>\n",
       "      <td>0</td>\n",
       "      <td>0</td>\n",
       "      <td>0</td>\n",
       "      <td>1</td>\n",
       "      <td>0</td>\n",
       "      <td>0</td>\n",
       "      <td>0</td>\n",
       "      <td>0</td>\n",
       "      <td>0</td>\n",
       "    </tr>\n",
       "    <tr>\n",
       "      <th>38607</th>\n",
       "      <td>46</td>\n",
       "      <td>1</td>\n",
       "      <td>0</td>\n",
       "      <td>-1.1</td>\n",
       "      <td>94.767</td>\n",
       "      <td>-50.8</td>\n",
       "      <td>1.028</td>\n",
       "      <td>4963.6</td>\n",
       "      <td>0</td>\n",
       "      <td>1</td>\n",
       "      <td>...</td>\n",
       "      <td>1</td>\n",
       "      <td>0</td>\n",
       "      <td>0</td>\n",
       "      <td>0</td>\n",
       "      <td>0</td>\n",
       "      <td>0</td>\n",
       "      <td>0</td>\n",
       "      <td>0</td>\n",
       "      <td>0</td>\n",
       "      <td>0</td>\n",
       "    </tr>\n",
       "    <tr>\n",
       "      <th>38608</th>\n",
       "      <td>56</td>\n",
       "      <td>2</td>\n",
       "      <td>0</td>\n",
       "      <td>-1.1</td>\n",
       "      <td>94.767</td>\n",
       "      <td>-50.8</td>\n",
       "      <td>1.028</td>\n",
       "      <td>4963.6</td>\n",
       "      <td>0</td>\n",
       "      <td>1</td>\n",
       "      <td>...</td>\n",
       "      <td>0</td>\n",
       "      <td>0</td>\n",
       "      <td>0</td>\n",
       "      <td>0</td>\n",
       "      <td>1</td>\n",
       "      <td>0</td>\n",
       "      <td>0</td>\n",
       "      <td>0</td>\n",
       "      <td>0</td>\n",
       "      <td>0</td>\n",
       "    </tr>\n",
       "    <tr>\n",
       "      <th>38609</th>\n",
       "      <td>44</td>\n",
       "      <td>1</td>\n",
       "      <td>0</td>\n",
       "      <td>-1.1</td>\n",
       "      <td>94.767</td>\n",
       "      <td>-50.8</td>\n",
       "      <td>1.028</td>\n",
       "      <td>4963.6</td>\n",
       "      <td>1</td>\n",
       "      <td>1</td>\n",
       "      <td>...</td>\n",
       "      <td>0</td>\n",
       "      <td>0</td>\n",
       "      <td>0</td>\n",
       "      <td>0</td>\n",
       "      <td>0</td>\n",
       "      <td>0</td>\n",
       "      <td>0</td>\n",
       "      <td>0</td>\n",
       "      <td>1</td>\n",
       "      <td>0</td>\n",
       "    </tr>\n",
       "    <tr>\n",
       "      <th>38610</th>\n",
       "      <td>74</td>\n",
       "      <td>3</td>\n",
       "      <td>1</td>\n",
       "      <td>-1.1</td>\n",
       "      <td>94.767</td>\n",
       "      <td>-50.8</td>\n",
       "      <td>1.028</td>\n",
       "      <td>4963.6</td>\n",
       "      <td>0</td>\n",
       "      <td>1</td>\n",
       "      <td>...</td>\n",
       "      <td>0</td>\n",
       "      <td>0</td>\n",
       "      <td>0</td>\n",
       "      <td>0</td>\n",
       "      <td>1</td>\n",
       "      <td>0</td>\n",
       "      <td>0</td>\n",
       "      <td>0</td>\n",
       "      <td>0</td>\n",
       "      <td>0</td>\n",
       "    </tr>\n",
       "  </tbody>\n",
       "</table>\n",
       "<p>38611 rows × 60 columns</p>\n",
       "</div>"
      ],
      "text/plain": [
       "       age  campaign  previous  emp.var.rate  cons.price.idx  cons.conf.idx  \\\n",
       "0       56         1         0           1.1          93.994          -36.4   \n",
       "1       57         1         0           1.1          93.994          -36.4   \n",
       "2       37         1         0           1.1          93.994          -36.4   \n",
       "3       40         1         0           1.1          93.994          -36.4   \n",
       "4       56         1         0           1.1          93.994          -36.4   \n",
       "...    ...       ...       ...           ...             ...            ...   \n",
       "38606   73         1         0          -1.1          94.767          -50.8   \n",
       "38607   46         1         0          -1.1          94.767          -50.8   \n",
       "38608   56         2         0          -1.1          94.767          -50.8   \n",
       "38609   44         1         0          -1.1          94.767          -50.8   \n",
       "38610   74         3         1          -1.1          94.767          -50.8   \n",
       "\n",
       "       euribor3m  nr.employed  y  pdays_missing  ...  job_blue-collar  \\\n",
       "0          4.857       5191.0  0              1  ...                0   \n",
       "1          4.857       5191.0  0              1  ...                0   \n",
       "2          4.857       5191.0  0              1  ...                0   \n",
       "3          4.857       5191.0  0              1  ...                0   \n",
       "4          4.857       5191.0  0              1  ...                0   \n",
       "...          ...          ... ..            ...  ...              ...   \n",
       "38606      1.028       4963.6  1              1  ...                0   \n",
       "38607      1.028       4963.6  0              1  ...                1   \n",
       "38608      1.028       4963.6  0              1  ...                0   \n",
       "38609      1.028       4963.6  1              1  ...                0   \n",
       "38610      1.028       4963.6  0              1  ...                0   \n",
       "\n",
       "       job_entrepreneur  job_housemaid  job_management  job_retired  \\\n",
       "0                     0              1               0            0   \n",
       "1                     0              0               0            0   \n",
       "2                     0              0               0            0   \n",
       "3                     0              0               0            0   \n",
       "4                     0              0               0            0   \n",
       "...                 ...            ...             ...          ...   \n",
       "38606                 0              0               0            1   \n",
       "38607                 0              0               0            0   \n",
       "38608                 0              0               0            1   \n",
       "38609                 0              0               0            0   \n",
       "38610                 0              0               0            1   \n",
       "\n",
       "       job_self-employed  job_services  job_student  job_technician  \\\n",
       "0                      0             0            0               0   \n",
       "1                      0             1            0               0   \n",
       "2                      0             1            0               0   \n",
       "3                      0             0            0               0   \n",
       "4                      0             1            0               0   \n",
       "...                  ...           ...          ...             ...   \n",
       "38606                  0             0            0               0   \n",
       "38607                  0             0            0               0   \n",
       "38608                  0             0            0               0   \n",
       "38609                  0             0            0               1   \n",
       "38610                  0             0            0               0   \n",
       "\n",
       "       job_unemployed  \n",
       "0                   0  \n",
       "1                   0  \n",
       "2                   0  \n",
       "3                   0  \n",
       "4                   0  \n",
       "...               ...  \n",
       "38606               0  \n",
       "38607               0  \n",
       "38608               0  \n",
       "38609               0  \n",
       "38610               0  \n",
       "\n",
       "[38611 rows x 60 columns]"
      ]
     },
     "execution_count": 30,
     "metadata": {},
     "output_type": "execute_result"
    }
   ],
   "source": [
    "data"
   ]
  },
  {
   "cell_type": "markdown",
   "id": "9ae83efa",
   "metadata": {
    "papermill": {
     "duration": 0.029191,
     "end_time": "2022-06-26T11:08:37.123027",
     "exception": false,
     "start_time": "2022-06-26T11:08:37.093836",
     "status": "completed"
    },
    "tags": []
   },
   "source": [
    "Now, the data is ready for modelling."
   ]
  },
  {
   "cell_type": "markdown",
   "id": "e3b958da",
   "metadata": {
    "papermill": {
     "duration": 0.029144,
     "end_time": "2022-06-26T11:08:37.181631",
     "exception": false,
     "start_time": "2022-06-26T11:08:37.152487",
     "status": "completed"
    },
    "tags": []
   },
   "source": [
    "Spliting the target variable as \"y\"."
   ]
  },
  {
   "cell_type": "code",
   "execution_count": 31,
   "id": "67654fab",
   "metadata": {
    "execution": {
     "iopub.execute_input": "2022-06-26T11:08:37.242506Z",
     "iopub.status.busy": "2022-06-26T11:08:37.241824Z",
     "iopub.status.idle": "2022-06-26T11:08:37.251917Z",
     "shell.execute_reply": "2022-06-26T11:08:37.250982Z"
    },
    "papermill": {
     "duration": 0.043009,
     "end_time": "2022-06-26T11:08:37.254205",
     "exception": false,
     "start_time": "2022-06-26T11:08:37.211196",
     "status": "completed"
    },
    "tags": []
   },
   "outputs": [],
   "source": [
    "y = data.loc[:,[\"y\"]]\n",
    "x = data.drop([\"y\"],1)"
   ]
  },
  {
   "cell_type": "markdown",
   "id": "f2dadd70",
   "metadata": {
    "papermill": {
     "duration": 0.02925,
     "end_time": "2022-06-26T11:08:37.313589",
     "exception": false,
     "start_time": "2022-06-26T11:08:37.284339",
     "status": "completed"
    },
    "tags": []
   },
   "source": [
    "Scaling all values in the data between 0 and 1."
   ]
  },
  {
   "cell_type": "code",
   "execution_count": 32,
   "id": "d304a0b9",
   "metadata": {
    "execution": {
     "iopub.execute_input": "2022-06-26T11:08:37.374783Z",
     "iopub.status.busy": "2022-06-26T11:08:37.374090Z",
     "iopub.status.idle": "2022-06-26T11:08:37.411075Z",
     "shell.execute_reply": "2022-06-26T11:08:37.410129Z"
    },
    "papermill": {
     "duration": 0.070164,
     "end_time": "2022-06-26T11:08:37.413491",
     "exception": false,
     "start_time": "2022-06-26T11:08:37.343327",
     "status": "completed"
    },
    "tags": []
   },
   "outputs": [],
   "source": [
    "x_normalized = (x - np.min(x)) / ((np.max(x) - np.min(x)))"
   ]
  },
  {
   "cell_type": "markdown",
   "id": "5a3d59b3",
   "metadata": {
    "papermill": {
     "duration": 0.02944,
     "end_time": "2022-06-26T11:08:37.473219",
     "exception": false,
     "start_time": "2022-06-26T11:08:37.443779",
     "status": "completed"
    },
    "tags": []
   },
   "source": [
    "<a id = \"11\"></a>\n",
    "\n",
    "### Hyperparameter Tunning"
   ]
  },
  {
   "cell_type": "markdown",
   "id": "328c2c73",
   "metadata": {
    "papermill": {
     "duration": 0.029471,
     "end_time": "2022-06-26T11:08:37.532505",
     "exception": false,
     "start_time": "2022-06-26T11:08:37.503034",
     "status": "completed"
    },
    "tags": []
   },
   "source": [
    "Train Test Split:"
   ]
  },
  {
   "cell_type": "code",
   "execution_count": 33,
   "id": "fcfcecfd",
   "metadata": {
    "execution": {
     "iopub.execute_input": "2022-06-26T11:08:37.594520Z",
     "iopub.status.busy": "2022-06-26T11:08:37.593273Z",
     "iopub.status.idle": "2022-06-26T11:08:37.773487Z",
     "shell.execute_reply": "2022-06-26T11:08:37.772447Z"
    },
    "papermill": {
     "duration": 0.213851,
     "end_time": "2022-06-26T11:08:37.776253",
     "exception": false,
     "start_time": "2022-06-26T11:08:37.562402",
     "status": "completed"
    },
    "tags": []
   },
   "outputs": [],
   "source": [
    "# Split Data to Train and Validation\n",
    "X_train, X_val, y_train, y_val = train_test_split(x_normalized, y.values.ravel(), train_size = 0.75, stratify = y.values.ravel(),random_state = 42)\n",
    "\n",
    "# a list where train data indices are -1 and validation data indices are 0\n",
    "split_index = [-1 if x in X_train.index else 0 for x in x_normalized.index]\n",
    "\n",
    "# Use the list to create PredefinedSplit\n",
    "pds = PredefinedSplit(test_fold = split_index)"
   ]
  },
  {
   "cell_type": "markdown",
   "id": "ec21adb1",
   "metadata": {
    "papermill": {
     "duration": 0.030222,
     "end_time": "2022-06-26T11:08:37.836425",
     "exception": false,
     "start_time": "2022-06-26T11:08:37.806203",
     "status": "completed"
    },
    "tags": []
   },
   "source": [
    "Parameters for two algoritghm:"
   ]
  },
  {
   "cell_type": "code",
   "execution_count": 34,
   "id": "602ca3ca",
   "metadata": {
    "execution": {
     "iopub.execute_input": "2022-06-26T11:08:37.899554Z",
     "iopub.status.busy": "2022-06-26T11:08:37.899146Z",
     "iopub.status.idle": "2022-06-26T11:08:37.906589Z",
     "shell.execute_reply": "2022-06-26T11:08:37.905856Z"
    },
    "papermill": {
     "duration": 0.041254,
     "end_time": "2022-06-26T11:08:37.908344",
     "exception": false,
     "start_time": "2022-06-26T11:08:37.867090",
     "status": "completed"
    },
    "tags": []
   },
   "outputs": [],
   "source": [
    "logreg_param_grid = {\"C\":np.logspace(-20,20,10),\n",
    "                    \"max_iter\": [20000,50000,100000],\n",
    "                    \"penalty\": [\"l1\",\"l2\"],\n",
    "                    \"solver\": [\"saga\",\"newton-cg\",\"lbfgs\",\"liblinear\"],\n",
    "                    \"class_weight\": [\"balanced\"]}\n",
    "\n",
    "xgb_param_grid = {'max_depth': [10,20],\n",
    "                  'n_estimators': [500,1000]}\n",
    "\n",
    "r_s = 42\n",
    "classifier_parameters = [xgb_param_grid,\n",
    "                         logreg_param_grid]\n",
    "                         \n",
    "\n",
    "classifiers = [XGBClassifier(random_state = r_s),\n",
    "               LogisticRegression(random_state = r_s)]"
   ]
  },
  {
   "cell_type": "markdown",
   "id": "554cda86",
   "metadata": {
    "papermill": {
     "duration": 0.029659,
     "end_time": "2022-06-26T11:08:37.967826",
     "exception": false,
     "start_time": "2022-06-26T11:08:37.938167",
     "status": "completed"
    },
    "tags": []
   },
   "source": [
    "Hyperparameter Tunning Function - GridSearch: "
   ]
  },
  {
   "cell_type": "code",
   "execution_count": 35,
   "id": "969256fa",
   "metadata": {
    "execution": {
     "iopub.execute_input": "2022-06-26T11:08:38.030893Z",
     "iopub.status.busy": "2022-06-26T11:08:38.030229Z",
     "iopub.status.idle": "2022-06-26T11:08:38.041414Z",
     "shell.execute_reply": "2022-06-26T11:08:38.040602Z"
    },
    "papermill": {
     "duration": 0.045906,
     "end_time": "2022-06-26T11:08:38.043588",
     "exception": false,
     "start_time": "2022-06-26T11:08:37.997682",
     "status": "completed"
    },
    "tags": []
   },
   "outputs": [],
   "source": [
    "def param_tunning(learner_list, params, X_train, y_train, X_val, y_val): \n",
    "    \n",
    "    best_estimators = []\n",
    "    scorer = make_scorer(f1_score)\n",
    "    hyp_results = {}\n",
    "    hyp_final_results = []\n",
    "    \n",
    "    for i, j in zip(learner_list, params):\n",
    "        \n",
    "        hyp_results['Algorithm'] = i.__class__.__name__\n",
    "        print(\"Training {}\".format(i.__class__.__name__))\n",
    "        \n",
    "        clf = GridSearchCV(estimator = i,\n",
    "                   cv=pds,\n",
    "                   scoring= scorer,\n",
    "                   param_grid=j,\n",
    "                   n_jobs = -1,\n",
    "                   verbose = 1)\n",
    "        # Fit with all data\n",
    "        clf.fit(x_normalized, y.values.ravel())\n",
    "        best_estimators.append(clf.best_estimator_)\n",
    "               \n",
    "        predictions_test = clf.predict(X_val)\n",
    "        prediction_train = clf.predict(X_train)\n",
    "        \n",
    "        hyp_results['Accuracy: Test'] = accuracy_score(y_val, predictions_test)\n",
    "        hyp_results['Accuracy: Train'] = accuracy_score(y_train, prediction_train)\n",
    "        hyp_results['F1 Score: Test'] = f1_score(y_val, predictions_test)\n",
    "        hyp_results['F1 Score: Train'] = f1_score(y_train, prediction_train)\n",
    "        hyp_results['Precision: Test'] = precision_score(y_val, predictions_test)\n",
    "        hyp_results['Precision: Train'] = precision_score(y_train, prediction_train)\n",
    "        hyp_results['Recall: Test'] = recall_score(y_val, predictions_test)\n",
    "        hyp_results['Recall: Train'] = recall_score(y_train, prediction_train)\n",
    "        hyp_results[\"Best Parameters\"] = clf.best_params_\n",
    "        hyp_final_results.append(hyp_results.copy())   \n",
    "    return hyp_final_results, best_estimators"
   ]
  },
  {
   "cell_type": "code",
   "execution_count": 36,
   "id": "465518fe",
   "metadata": {
    "execution": {
     "iopub.execute_input": "2022-06-26T11:08:38.105279Z",
     "iopub.status.busy": "2022-06-26T11:08:38.104628Z",
     "iopub.status.idle": "2022-06-26T11:22:28.637714Z",
     "shell.execute_reply": "2022-06-26T11:22:28.636365Z"
    },
    "papermill": {
     "duration": 830.567827,
     "end_time": "2022-06-26T11:22:28.641711",
     "exception": false,
     "start_time": "2022-06-26T11:08:38.073884",
     "status": "completed"
    },
    "tags": []
   },
   "outputs": [
    {
     "name": "stdout",
     "output_type": "stream",
     "text": [
      "Training XGBClassifier\n",
      "Fitting 1 folds for each of 4 candidates, totalling 4 fits\n",
      "Training LogisticRegression\n",
      "Fitting 1 folds for each of 240 candidates, totalling 240 fits\n"
     ]
    }
   ],
   "source": [
    "df_models, best_estimators = param_tunning(classifiers, classifier_parameters, X_train, y_train, X_val, y_val)"
   ]
  },
  {
   "cell_type": "markdown",
   "id": "49b69af0",
   "metadata": {
    "papermill": {
     "duration": 0.029236,
     "end_time": "2022-06-26T11:22:28.713584",
     "exception": false,
     "start_time": "2022-06-26T11:22:28.684348",
     "status": "completed"
    },
    "tags": []
   },
   "source": [
    "<a id = \"11\"></a>\n",
    "\n",
    "### Results"
   ]
  },
  {
   "cell_type": "code",
   "execution_count": 37,
   "id": "683f5e62",
   "metadata": {
    "execution": {
     "iopub.execute_input": "2022-06-26T11:22:28.774732Z",
     "iopub.status.busy": "2022-06-26T11:22:28.774020Z",
     "iopub.status.idle": "2022-06-26T11:22:28.793836Z",
     "shell.execute_reply": "2022-06-26T11:22:28.793230Z"
    },
    "papermill": {
     "duration": 0.05255,
     "end_time": "2022-06-26T11:22:28.795757",
     "exception": false,
     "start_time": "2022-06-26T11:22:28.743207",
     "status": "completed"
    },
    "tags": []
   },
   "outputs": [
    {
     "data": {
      "text/html": [
       "<div>\n",
       "<style scoped>\n",
       "    .dataframe tbody tr th:only-of-type {\n",
       "        vertical-align: middle;\n",
       "    }\n",
       "\n",
       "    .dataframe tbody tr th {\n",
       "        vertical-align: top;\n",
       "    }\n",
       "\n",
       "    .dataframe thead th {\n",
       "        text-align: right;\n",
       "    }\n",
       "</style>\n",
       "<table border=\"1\" class=\"dataframe\">\n",
       "  <thead>\n",
       "    <tr style=\"text-align: right;\">\n",
       "      <th></th>\n",
       "      <th>Algorithm</th>\n",
       "      <th>Accuracy: Test</th>\n",
       "      <th>Accuracy: Train</th>\n",
       "      <th>F1 Score: Test</th>\n",
       "      <th>F1 Score: Train</th>\n",
       "      <th>Precision: Test</th>\n",
       "      <th>Precision: Train</th>\n",
       "      <th>Recall: Test</th>\n",
       "      <th>Recall: Train</th>\n",
       "      <th>Best Parameters</th>\n",
       "    </tr>\n",
       "  </thead>\n",
       "  <tbody>\n",
       "    <tr>\n",
       "      <th>0</th>\n",
       "      <td>XGBClassifier</td>\n",
       "      <td>0.993992</td>\n",
       "      <td>0.993232</td>\n",
       "      <td>0.972512</td>\n",
       "      <td>0.969066</td>\n",
       "      <td>0.991304</td>\n",
       "      <td>0.986187</td>\n",
       "      <td>0.954419</td>\n",
       "      <td>0.952529</td>\n",
       "      <td>{'max_depth': 20, 'n_estimators': 500}</td>\n",
       "    </tr>\n",
       "    <tr>\n",
       "      <th>1</th>\n",
       "      <td>LogisticRegression</td>\n",
       "      <td>0.830623</td>\n",
       "      <td>0.828407</td>\n",
       "      <td>0.452261</td>\n",
       "      <td>0.443997</td>\n",
       "      <td>0.353403</td>\n",
       "      <td>0.347217</td>\n",
       "      <td>0.627907</td>\n",
       "      <td>0.615576</td>\n",
       "      <td>{'C': 166.81005372000558, 'class_weight': 'bal...</td>\n",
       "    </tr>\n",
       "  </tbody>\n",
       "</table>\n",
       "</div>"
      ],
      "text/plain": [
       "            Algorithm  Accuracy: Test  Accuracy: Train  F1 Score: Test  \\\n",
       "0       XGBClassifier        0.993992         0.993232        0.972512   \n",
       "1  LogisticRegression        0.830623         0.828407        0.452261   \n",
       "\n",
       "   F1 Score: Train  Precision: Test  Precision: Train  Recall: Test  \\\n",
       "0         0.969066         0.991304          0.986187      0.954419   \n",
       "1         0.443997         0.353403          0.347217      0.627907   \n",
       "\n",
       "   Recall: Train                                    Best Parameters  \n",
       "0       0.952529             {'max_depth': 20, 'n_estimators': 500}  \n",
       "1       0.615576  {'C': 166.81005372000558, 'class_weight': 'bal...  "
      ]
     },
     "execution_count": 37,
     "metadata": {},
     "output_type": "execute_result"
    }
   ],
   "source": [
    "df_models = pd.DataFrame(df_models)\n",
    "df_models = df_models.reindex(columns = ['Algorithm','Accuracy: Test','Accuracy: Train','F1 Score: Test','F1 Score: Train',\n",
    "                                        'Precision: Test','Precision: Train','Recall: Test','Recall: Train',\"Best Parameters\"])\n",
    "\n",
    "df_models.sort_values(by = 'F1 Score: Test', inplace = True, ascending = False)\n",
    "df_models.reset_index(drop = True)"
   ]
  },
  {
   "cell_type": "code",
   "execution_count": 38,
   "id": "f75db9f9",
   "metadata": {
    "execution": {
     "iopub.execute_input": "2022-06-26T11:22:28.857637Z",
     "iopub.status.busy": "2022-06-26T11:22:28.857033Z",
     "iopub.status.idle": "2022-06-26T11:22:28.868315Z",
     "shell.execute_reply": "2022-06-26T11:22:28.867708Z"
    },
    "papermill": {
     "duration": 0.044562,
     "end_time": "2022-06-26T11:22:28.870176",
     "exception": false,
     "start_time": "2022-06-26T11:22:28.825614",
     "status": "completed"
    },
    "tags": []
   },
   "outputs": [
    {
     "data": {
      "text/plain": [
       "XGBClassifier(base_score=0.5, booster='gbtree', callbacks=None,\n",
       "              colsample_bylevel=1, colsample_bynode=1, colsample_bytree=1,\n",
       "              early_stopping_rounds=None, enable_categorical=False,\n",
       "              eval_metric=None, gamma=0, gpu_id=-1, grow_policy='depthwise',\n",
       "              importance_type=None, interaction_constraints='',\n",
       "              learning_rate=0.300000012, max_bin=256, max_cat_to_onehot=4,\n",
       "              max_delta_step=0, max_depth=20, max_leaves=0, min_child_weight=1,\n",
       "              missing=nan, monotone_constraints='()', n_estimators=500,\n",
       "              n_jobs=0, num_parallel_tree=1, predictor='auto', random_state=42,\n",
       "              reg_alpha=0, reg_lambda=1, ...)"
      ]
     },
     "execution_count": 38,
     "metadata": {},
     "output_type": "execute_result"
    }
   ],
   "source": [
    "best_estimators[0]"
   ]
  },
  {
   "cell_type": "code",
   "execution_count": 39,
   "id": "a257df06",
   "metadata": {
    "execution": {
     "iopub.execute_input": "2022-06-26T11:22:28.931938Z",
     "iopub.status.busy": "2022-06-26T11:22:28.931297Z",
     "iopub.status.idle": "2022-06-26T11:22:28.937359Z",
     "shell.execute_reply": "2022-06-26T11:22:28.936585Z"
    },
    "papermill": {
     "duration": 0.038753,
     "end_time": "2022-06-26T11:22:28.939073",
     "exception": false,
     "start_time": "2022-06-26T11:22:28.900320",
     "status": "completed"
    },
    "tags": []
   },
   "outputs": [
    {
     "data": {
      "text/plain": [
       "LogisticRegression(C=166.81005372000558, class_weight='balanced',\n",
       "                   max_iter=20000, random_state=42)"
      ]
     },
     "execution_count": 39,
     "metadata": {},
     "output_type": "execute_result"
    }
   ],
   "source": [
    "best_estimators[1]"
   ]
  }
 ],
 "metadata": {
  "kernelspec": {
   "display_name": "Python 3",
   "language": "python",
   "name": "python3"
  },
  "language_info": {
   "codemirror_mode": {
    "name": "ipython",
    "version": 3
   },
   "file_extension": ".py",
   "mimetype": "text/x-python",
   "name": "python",
   "nbconvert_exporter": "python",
   "pygments_lexer": "ipython3",
   "version": "3.7.12"
  },
  "papermill": {
   "default_parameters": {},
   "duration": 1338.840334,
   "end_time": "2022-06-26T11:22:31.592141",
   "environment_variables": {},
   "exception": null,
   "input_path": "__notebook__.ipynb",
   "output_path": "__notebook__.ipynb",
   "parameters": {},
   "start_time": "2022-06-26T11:00:12.751807",
   "version": "2.3.4"
  }
 },
 "nbformat": 4,
 "nbformat_minor": 5
}
